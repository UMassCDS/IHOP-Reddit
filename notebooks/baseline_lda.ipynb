{
 "cells": [
  {
   "cell_type": "markdown",
   "metadata": {},
   "source": [
    "# Baseline LDA model\n",
    "This notebook gives an overview of how to train an LDA model from the Reddit data.\n",
    "\n",
    "The input is a joined submissions and commends dataframe as produced by `notebooks/bagOfWords_preprocessing_databricks.ipynb`"
   ]
  },
  {
   "cell_type": "code",
   "execution_count": 1,
   "metadata": {},
   "outputs": [
    {
     "name": "stderr",
     "output_type": "stream",
     "text": [
      "22/02/26 15:57:49 WARN Utils: Your hostname, Kurt resolves to a loopback address: 127.0.1.1; using 192.168.0.11 instead (on interface wlp4s0)\n",
      "22/02/26 15:57:49 WARN Utils: Set SPARK_LOCAL_IP if you need to bind to another address\n",
      "Using Spark's default log4j profile: org/apache/spark/log4j-defaults.properties\n",
      "Setting default log level to \"WARN\".\n",
      "To adjust logging level use sc.setLogLevel(newLevel). For SparkR, use setLogLevel(newLevel).\n",
      "22/02/26 15:57:53 WARN Utils: Service 'SparkUI' could not bind on port 4040. Attempting port 4041.\n",
      "22/02/26 15:57:53 WARN Utils: Service 'SparkUI' could not bind on port 4041. Attempting port 4042.\n"
     ]
    },
    {
     "name": "stdout",
     "output_type": "stream",
     "text": [
      "Spark configuration:\n",
      "[('spark.app.id', 'local-1645909073755'), ('spark.app.startTime', '1645909071006'), ('spark.executor.id', 'driver'), ('spark.app.name', 'baseline lda'), ('spark.driver.memory', '8G'), ('spark.driver.host', '192.168.0.11'), ('spark.driver.port', '44947'), ('spark.sql.warehouse.dir', 'file:/home/virginia/Documents/CenterForDataScience/ZuckermanProj/IHOP/notebooks/spark-warehouse'), ('spark.rdd.compress', 'True'), ('spark.serializer.objectStreamReset', '100'), ('spark.master', 'local[*]'), ('spark.submit.pyFiles', ''), ('spark.submit.deployMode', 'client'), ('spark.executor.extraLibraryPath', '/home/virginia/hadoop-3.3.1/lib/native'), ('spark.ui.showConsoleProgress', 'true'), ('spark.driver.extraLibraryPath', '/home/virginia/hadoop-3.3.1/lib/native')]\n"
     ]
    }
   ],
   "source": [
    "import ihop.utils\n",
    "import logging\n",
    "\n",
    "# TODO Logging should be configurable, but for now just turn it on for Gensim\n",
    "logging.basicConfig(\n",
    "    format='%(name)s : %(asctime)s : %(levelname)s : %(message)s', level=logging.INFO)\n",
    "\n",
    "spark = ihop.utils.get_spark_session(\"baseline lda\")"
   ]
  },
  {
   "cell_type": "code",
   "execution_count": 2,
   "metadata": {},
   "outputs": [
    {
     "name": "stderr",
     "output_type": "stream",
     "text": [
      "                                                                                \r"
     ]
    }
   ],
   "source": [
    "input_data = spark.read.load(\n",
    "    \"../data/bagOfWords/2021-05_to_2021-06_joined_submissions_comments_5percentTopUsersExcludedFromComments_02102022.parquet\").limit(500)"
   ]
  },
  {
   "cell_type": "code",
   "execution_count": 3,
   "metadata": {},
   "outputs": [
    {
     "name": "stderr",
     "output_type": "stream",
     "text": [
      "                                                                                \r"
     ]
    }
   ],
   "source": [
    "input_data.write.parquet(\"tmp_data\")"
   ]
  },
  {
   "cell_type": "code",
   "execution_count": 4,
   "metadata": {},
   "outputs": [
    {
     "name": "stderr",
     "output_type": "stream",
     "text": [
      "                                                                                \r"
     ]
    },
    {
     "data": {
      "text/plain": [
       "500"
      ]
     },
     "execution_count": 4,
     "metadata": {},
     "output_type": "execute_result"
    }
   ],
   "source": [
    "input_data.count()"
   ]
  },
  {
   "cell_type": "markdown",
   "metadata": {},
   "source": [
    "# Train a simple LDA model using Gensim\n"
   ]
  },
  {
   "cell_type": "code",
   "execution_count": 5,
   "metadata": {},
   "outputs": [
    {
     "name": "stderr",
     "output_type": "stream",
     "text": [
      "numexpr.utils : 2022-02-26 15:59:04,322 : INFO : NumExpr defaulting to 4 threads.\n",
      "ihop.text_processing : 2022-02-26 15:59:05,417 : INFO : Prepping corpus for LDA with parameters: {'spark': <pyspark.sql.session.SparkSession object at 0x7fae3091f940>, 'input_corpus_path': 'tmp_data', 'min_time_delta': 3, 'max_time_delta': 259200, 'min_doc_frequency': 0.05, 'max_doc_frequency': 0.95, 'output_dir': 'tmp_lda_model', 'corpus_output_name': 'vectorized_corpus.parquet'}\n",
      "gensim.models.ldamodel : 2022-02-26 15:59:25,828 : INFO : using asymmetric alpha [0.20349778, 0.15460682, 0.124657474, 0.10442834, 0.08984803, 0.07884031, 0.070235424, 0.06332404, 0.057651002, 0.052910853]\n",
      "gensim.models.ldamodel : 2022-02-26 15:59:25,832 : INFO : using symmetric eta at 0.1\n",
      "gensim.models.ldamodel : 2022-02-26 15:59:25,834 : INFO : using serial LDA version on this node\n",
      "ihop.clustering : 2022-02-26 15:59:25,837 : INFO : Training model lda\n",
      "gensim.models.ldamulticore : 2022-02-26 15:59:27,403 : INFO : running online LDA training, 10 topics, 1 passes over the supplied corpus of 99 documents, updating every 6000 documents, evaluating every ~99 documents, iterating 1000x with a convergence threshold of 0.001000\n",
      "gensim.models.ldamulticore : 2022-02-26 15:59:27,405 : WARNING : too few updates, training might not converge; consider increasing the number of passes or iterations to improve accuracy\n",
      "gensim.models.ldamulticore : 2022-02-26 15:59:27,409 : INFO : training LDA model using 3 processes\n",
      "gensim.models.ldamulticore : 2022-02-26 15:59:29,824 : INFO : PROGRESS: pass 0, dispatched chunk #0 = documents up to #99/99, outstanding queue size 1\n",
      "gensim.models.ldamodel : 2022-02-26 15:59:31,624 : INFO : topic #9 (0.053): 0.043*\"and\" + 0.022*\"your\" + 0.022*\"the\" + 0.022*\"i\" + 0.022*\"you\" + 0.022*\"big\" + 0.022*\"what\" + 0.022*\"for\" + 0.022*\"to\" + 0.012*\"that\"\n",
      "gensim.models.ldamodel : 2022-02-26 15:59:31,628 : INFO : topic #8 (0.058): 0.041*\"i\" + 0.036*\"and\" + 0.028*\"a\" + 0.027*\"the\" + 0.025*\"to\" + 0.023*\"it\" + 0.022*\"for\" + 0.018*\"just\" + 0.017*\"in\" + 0.016*\"all\"\n",
      "gensim.models.ldamodel : 2022-02-26 15:59:31,630 : INFO : topic #2 (0.125): 0.037*\"i'm\" + 0.025*\"the\" + 0.025*\"it\" + 0.025*\"in\" + 0.025*\"post\" + 0.025*\"a\" + 0.025*\"you\" + 0.025*\"for\" + 0.025*\"see\" + 0.013*\"i\"\n",
      "gensim.models.ldamodel : 2022-02-26 15:59:31,661 : INFO : topic #1 (0.155): 0.061*\"a\" + 0.048*\"the\" + 0.032*\"and\" + 0.031*\"to\" + 0.028*\"of\" + 0.026*\"it\" + 0.026*\"i\" + 0.023*\"no\" + 0.022*\"you\" + 0.021*\"is\"\n",
      "gensim.models.ldamodel : 2022-02-26 15:59:31,666 : INFO : topic #0 (0.203): 0.041*\"to\" + 0.041*\"a\" + 0.025*\"my\" + 0.025*\"this\" + 0.025*\"just\" + 0.017*\"you\" + 0.017*\"is\" + 0.017*\"in\" + 0.017*\"me\" + 0.017*\"not\"\n",
      "gensim.models.ldamodel : 2022-02-26 15:59:31,668 : INFO : topic diff=5.410382, rho=1.000000\n",
      "gensim.models.ldamodel : 2022-02-26 15:59:32,327 : INFO : -5.307 per-word bound, 39.6 perplexity estimate based on a held-out corpus of 99 documents with 11215 words\n",
      "ihop.clustering : 2022-02-26 15:59:33,647 : INFO : Finished training model lda\n",
      "ihop.clustering : 2022-02-26 15:59:33,649 : INFO : Saving model lda to tmp_lda_model\n",
      "gensim.utils : 2022-02-26 15:59:33,654 : INFO : LdaState lifecycle event {'fname_or_handle': 'tmp_lda_model/gensim_lda.state.gz', 'separately': 'None', 'sep_limit': 10485760, 'ignore': frozenset(), 'datetime': '2022-02-26T15:59:33.654118', 'gensim': '4.1.2', 'python': '3.8.12 (default, Oct 12 2021, 13:49:34) \\n[GCC 7.5.0]', 'platform': 'Linux-5.4.0-100-generic-x86_64-with-glibc2.17', 'event': 'saving'}\n",
      "gensim.utils : 2022-02-26 15:59:33,659 : INFO : saved tmp_lda_model/gensim_lda.state.gz\n",
      "gensim.utils : 2022-02-26 15:59:33,662 : INFO : LdaMulticore lifecycle event {'fname_or_handle': 'tmp_lda_model/gensim_lda.gz', 'separately': \"['expElogbeta', 'sstats']\", 'sep_limit': 10485760, 'ignore': ['id2word', 'state', 'dispatcher'], 'datetime': '2022-02-26T15:59:33.662535', 'gensim': '4.1.2', 'python': '3.8.12 (default, Oct 12 2021, 13:49:34) \\n[GCC 7.5.0]', 'platform': 'Linux-5.4.0-100-generic-x86_64-with-glibc2.17', 'event': 'saving'}\n",
      "gensim.utils : 2022-02-26 15:59:33,665 : INFO : storing np array 'expElogbeta' to tmp_lda_model/gensim_lda.gz.expElogbeta.npz\n",
      "gensim.utils : 2022-02-26 15:59:33,670 : INFO : not storing attribute id2word\n",
      "gensim.utils : 2022-02-26 15:59:33,674 : INFO : not storing attribute state\n",
      "gensim.utils : 2022-02-26 15:59:33,675 : INFO : not storing attribute dispatcher\n",
      "gensim.utils : 2022-02-26 15:59:33,679 : INFO : saved tmp_lda_model/gensim_lda.gz\n",
      "ihop.clustering : 2022-02-26 15:59:34,450 : INFO : Model performance metrics: {'Coherence': -3.917943434471193}\n",
      "ihop.clustering : 2022-02-26 15:59:34,454 : INFO : Saving clusters to CSV tmp_lda_model/clusters.csv\n"
     ]
    },
    {
     "name": "stdout",
     "output_type": "stream",
     "text": [
      "Performance metrics: {'Coherence': -3.917943434471193}\n"
     ]
    },
    {
     "name": "stderr",
     "output_type": "stream",
     "text": [
      "ihop.clustering : 2022-02-26 15:59:35,661 : INFO : Saving topic keywords to CSV tmp_lda_model/words.csv\n"
     ]
    }
   ],
   "source": [
    "import ihop.clustering as ic\n",
    "import ihop.text_processing as itp\n",
    "\n",
    "lda_output_dir = \"tmp_lda_model\"\n",
    "\n",
    "vectorized_corpus, pipeline = itp.prep_spark_corpus(spark, \"tmp_data\", output_dir=lda_output_dir)\n",
    "lda_model = ic.main(\"lda\", vectorized_corpus.get_vectorized_column_iterator(), pipeline.get_id_to_word(), lda_output_dir, {'num_topics':10})\n",
    "\n"
   ]
  },
  {
   "cell_type": "code",
   "execution_count": 6,
   "metadata": {},
   "outputs": [
    {
     "data": {
      "text/html": [
       "<div>\n",
       "<style scoped>\n",
       "    .dataframe tbody tr th:only-of-type {\n",
       "        vertical-align: middle;\n",
       "    }\n",
       "\n",
       "    .dataframe tbody tr th {\n",
       "        vertical-align: top;\n",
       "    }\n",
       "\n",
       "    .dataframe thead th {\n",
       "        text-align: right;\n",
       "    }\n",
       "</style>\n",
       "<table border=\"1\" class=\"dataframe\">\n",
       "  <thead>\n",
       "    <tr style=\"text-align: right;\">\n",
       "      <th></th>\n",
       "      <th>topic_id</th>\n",
       "      <th>top_terms</th>\n",
       "    </tr>\n",
       "  </thead>\n",
       "  <tbody>\n",
       "    <tr>\n",
       "      <th>0</th>\n",
       "      <td>0</td>\n",
       "      <td>to a my this just you is in me not one really ...</td>\n",
       "    </tr>\n",
       "    <tr>\n",
       "      <th>1</th>\n",
       "      <td>1</td>\n",
       "      <td>a the and to of it i no you is with in on me f...</td>\n",
       "    </tr>\n",
       "    <tr>\n",
       "      <th>2</th>\n",
       "      <td>2</td>\n",
       "      <td>i'm the it in post a you for see i of that but...</td>\n",
       "    </tr>\n",
       "    <tr>\n",
       "      <th>3</th>\n",
       "      <td>3</td>\n",
       "      <td>the is and to of a it in was i that my with us...</td>\n",
       "    </tr>\n",
       "    <tr>\n",
       "      <th>4</th>\n",
       "      <td>4</td>\n",
       "      <td>for having real best far looks good so a my to...</td>\n",
       "    </tr>\n",
       "    <tr>\n",
       "      <th>5</th>\n",
       "      <td>5</td>\n",
       "      <td>i and to the a my that it you in is so of was ...</td>\n",
       "    </tr>\n",
       "    <tr>\n",
       "      <th>6</th>\n",
       "      <td>6</td>\n",
       "      <td>the to i and a you it of that for is in this m...</td>\n",
       "    </tr>\n",
       "    <tr>\n",
       "      <th>7</th>\n",
       "      <td>7</td>\n",
       "      <td>the to just it's be 6 about of no that's as wa...</td>\n",
       "    </tr>\n",
       "    <tr>\n",
       "      <th>8</th>\n",
       "      <td>8</td>\n",
       "      <td>i and a the to it for just in all be of we tha...</td>\n",
       "    </tr>\n",
       "    <tr>\n",
       "      <th>9</th>\n",
       "      <td>9</td>\n",
       "      <td>and your the i you big what for to that that’s...</td>\n",
       "    </tr>\n",
       "  </tbody>\n",
       "</table>\n",
       "</div>"
      ],
      "text/plain": [
       "   topic_id                                          top_terms\n",
       "0         0  to a my this just you is in me not one really ...\n",
       "1         1  a the and to of it i no you is with in on me f...\n",
       "2         2  i'm the it in post a you for see i of that but...\n",
       "3         3  the is and to of a it in was i that my with us...\n",
       "4         4  for having real best far looks good so a my to...\n",
       "5         5  i and to the a my that it you in is so of was ...\n",
       "6         6  the to i and a you it of that for is in this m...\n",
       "7         7  the to just it's be 6 about of no that's as wa...\n",
       "8         8  i and a the to it for just in all be of we tha...\n",
       "9         9  and your the i you big what for to that that’s..."
      ]
     },
     "execution_count": 6,
     "metadata": {},
     "output_type": "execute_result"
    }
   ],
   "source": [
    "lda_model.get_top_words_as_dataframe()"
   ]
  },
  {
   "cell_type": "code",
   "execution_count": 7,
   "metadata": {},
   "outputs": [
    {
     "name": "stdout",
     "output_type": "stream",
     "text": [
      "{'Coherence': -3.917943434471193}\n"
     ]
    }
   ],
   "source": [
    "print(lda_model.get_metrics())"
   ]
  },
  {
   "cell_type": "code",
   "execution_count": 8,
   "metadata": {},
   "outputs": [
    {
     "data": {
      "text/plain": [
       "[(5, 0.05769345),\n",
       " (6, 0.04360495),\n",
       " (8, 0.039964624),\n",
       " (1, 0.025803326),\n",
       " (3, 0.018116003),\n",
       " (9, 0.0172091)]"
      ]
     },
     "execution_count": 8,
     "metadata": {},
     "output_type": "execute_result"
    }
   ],
   "source": [
    "lda_model.get_term_topics('i')"
   ]
  },
  {
   "cell_type": "code",
   "execution_count": 9,
   "metadata": {},
   "outputs": [
    {
     "data": {
      "text/plain": [
       "{'model_name': 'lda',\n",
       " 'num_topics': 10,\n",
       " 'decay': 0.5,\n",
       " 'offset': 1.0,\n",
       " 'iterations': 1000}"
      ]
     },
     "execution_count": 9,
     "metadata": {},
     "output_type": "execute_result"
    }
   ],
   "source": [
    "lda_model.get_parameters()"
   ]
  },
  {
   "cell_type": "code",
   "execution_count": 10,
   "metadata": {},
   "outputs": [
    {
     "name": "stdout",
     "output_type": "stream",
     "text": [
      "99\n"
     ]
    },
    {
     "data": {
      "text/plain": [
       "{'n27gmk': [(1, 0.9893782)],\n",
       " 'n26pnc': [(4, 0.011231296),\n",
       "  (3, 0.013056133),\n",
       "  (2, 0.015589058),\n",
       "  (1, 0.01940883),\n",
       "  (0, 0.02571095),\n",
       "  (9, 0.88124675)],\n",
       " 'n2847x': [(5, 0.9974772)],\n",
       " 'n27p5v': [(0, 0.011374701), (6, 0.9482025)],\n",
       " 'n28a3x': [(1, 0.011984165), (0, 0.9386227)],\n",
       " 'n280bz': [(0, 0.011614121), (6, 0.9479444)],\n",
       " 'n27qbg': [(1, 0.47262216), (5, 0.49075827)],\n",
       " 'n26zl0': [(6, 0.9970454)],\n",
       " 'n26rob': [(0, 0.014666959), (1, 0.93947643)],\n",
       " 'n2796a': [(7, 0.010554121),\n",
       "  (6, 0.011706071),\n",
       "  (5, 0.013140466),\n",
       "  (4, 0.014974889),\n",
       "  (3, 0.017410312),\n",
       "  (2, 0.020794688),\n",
       "  (0, 0.03526347),\n",
       "  (1, 0.85772884)],\n",
       " 'n270nt': [(6, 0.98781824)],\n",
       " 'n27se1': [(5, 0.9921953)],\n",
       " 'n27lbf': [(6, 0.010035667),\n",
       "  (5, 0.011265067),\n",
       "  (4, 0.012837737),\n",
       "  (3, 0.014926754),\n",
       "  (2, 0.017821835),\n",
       "  (0, 0.029579964),\n",
       "  (1, 0.8786877)],\n",
       " 'n26rtn': [(6, 0.9858348)],\n",
       " 'n28bfz': [(8, 0.98342234)],\n",
       " 'n274qm': [(0, 0.011042604), (1, 0.9551651)],\n",
       " 'n26unv': [(6, 0.98974276)],\n",
       " 'n26qdl': [(1, 0.011973957), (0, 0.016948966), (6, 0.9270707)],\n",
       " 'n26uja': [(0, 0.010501243), (1, 0.9573974)],\n",
       " 'n27ego': [(5, 0.98484564)],\n",
       " 'n286yb': [(2, 0.010393194), (1, 0.20112978), (0, 0.7453686)],\n",
       " 'n26vy2': [(6, 0.9939785)],\n",
       " 'n272h4': [(0, 0.014766027), (1, 0.9393511)],\n",
       " 'n286h6': [(6, 0.9944755)],\n",
       " 'n28amc': [(1, 0.011113192), (0, 0.0147670675), (6, 0.93327624)],\n",
       " 'n283ow': [(6, 0.9992896)],\n",
       " 'n28ezs': [(1, 0.011972317), (0, 0.93864477)],\n",
       " 'n283jt': [(3, 0.9625492)],\n",
       " 'n28cxf': [(5, 0.99887145)],\n",
       " 'n274xr': [(3, 0.9891753)],\n",
       " 'n27wq5': [(1, 0.15112993), (6, 0.8466718)],\n",
       " 'n28eaq': [(0, 0.010239439), (5, 0.95379966)],\n",
       " 'n271bl': [(1, 0.9830149)],\n",
       " 'n28f4j': [(1, 0.34495792), (5, 0.639904)],\n",
       " 'n27vxq': [(9, 0.010582932),\n",
       "  (8, 0.011531032),\n",
       "  (7, 0.012665722),\n",
       "  (6, 0.014048178),\n",
       "  (5, 0.015769389),\n",
       "  (4, 0.017970901),\n",
       "  (3, 0.020888805),\n",
       "  (2, 0.0249333),\n",
       "  (0, 0.040974982),\n",
       "  (1, 0.8306348)],\n",
       " 'n27362': [(3, 0.98875874)],\n",
       " 'n27whe': [(3, 0.010444543),\n",
       "  (2, 0.012474861),\n",
       "  (1, 0.015509836),\n",
       "  (0, 0.920289)],\n",
       " 'n27dwy': [(4, 0.01123112),\n",
       "  (3, 0.01305488),\n",
       "  (2, 0.015582347),\n",
       "  (1, 0.019362286),\n",
       "  (0, 0.9003987)],\n",
       " 'n27ikl': [(1, 0.98513496)],\n",
       " 'n273zc': [(6, 0.9915134)],\n",
       " 'n272kp': [(4, 0.0112315705),\n",
       "  (2, 0.015582458),\n",
       "  (1, 0.019433936),\n",
       "  (0, 0.02667547),\n",
       "  (3, 0.8867053)],\n",
       " 'n27hmk': [(1, 0.41786152), (6, 0.57962495)],\n",
       " 'n2725q': [(9, 0.01763734),\n",
       "  (8, 0.019217426),\n",
       "  (7, 0.02110848),\n",
       "  (6, 0.02341234),\n",
       "  (5, 0.026280805),\n",
       "  (4, 0.029950004),\n",
       "  (3, 0.034813143),\n",
       "  (2, 0.041553415),\n",
       "  (1, 0.051574547),\n",
       "  (0, 0.7344525)],\n",
       " 'n26p5s': [(1, 0.9885002)],\n",
       " 'n27gm7': [(5, 0.99644244)],\n",
       " 'n2806n': [(6, 0.98785275)],\n",
       " 'n27he0': [(1, 0.011958262), (0, 0.9386521)],\n",
       " 'n28199': [(6, 0.3472582), (1, 0.65129054)],\n",
       " 'n27zby': [(6, 0.97876483)],\n",
       " 'n272yp': [(9, 0.01322779),\n",
       "  (8, 0.014412836),\n",
       "  (7, 0.015831105),\n",
       "  (6, 0.01755906),\n",
       "  (5, 0.019710694),\n",
       "  (4, 0.022462469),\n",
       "  (3, 0.026123324),\n",
       "  (2, 0.03117521),\n",
       "  (1, 0.039067198),\n",
       "  (0, 0.80043036)],\n",
       " 'n27v8b': [(9, 0.013227889),\n",
       "  (8, 0.014412944),\n",
       "  (7, 0.015831228),\n",
       "  (6, 0.017559135),\n",
       "  (5, 0.019710481),\n",
       "  (4, 0.022462305),\n",
       "  (3, 0.026107432),\n",
       "  (2, 0.031164784),\n",
       "  (1, 0.03872096),\n",
       "  (0, 0.8008029)],\n",
       " 'n27gy2': [(1, 0.992216)],\n",
       " 'n28a6y': [(0, 0.011834847), (6, 0.94773686)],\n",
       " 'n28c2k': [(1, 0.010375099), (0, 0.013778261), (9, 0.9365718)],\n",
       " 'n2857j': [(2, 0.01039412), (1, 0.012939705), (0, 0.93355995)],\n",
       " 'n26x3u': [(6, 0.9870289)],\n",
       " 'n27y6e': [(6, 0.9961267)],\n",
       " 'n27mxh': [(0, 0.010375473), (8, 0.95262694)],\n",
       " 'n27vec': [(9, 0.06726852), (1, 0.89649236)],\n",
       " 'n28b68': [(1, 0.21026285), (6, 0.7735327)],\n",
       " 'n283vf': [(1, 0.99699205)],\n",
       " 'n27pp2': [(6, 0.9805356)],\n",
       " 'n28b4a': [(5, 0.19768198), (3, 0.7774206)],\n",
       " 'n27xao': [(6, 0.95928556)],\n",
       " 'n28fbd': [(1, 0.113127686), (6, 0.88563144)],\n",
       " 'n27f7w': [(2, 0.011339541),\n",
       "  (1, 0.0141288405),\n",
       "  (0, 0.018752657),\n",
       "  (4, 0.9169228)],\n",
       " 'n28br8': [(7, 0.98433346)],\n",
       " 'n27s2o': [(1, 0.010383297), (0, 0.013745471), (6, 0.93775016)],\n",
       " 'n26z8u': [(3, 0.9823257)],\n",
       " 'n27l54': [(6, 0.9688574)],\n",
       " 'n2710k': [(6, 0.97828275)],\n",
       " 'n285v3': [(9, 0.9749806)],\n",
       " 'n27zj2': [(3, 0.01160795),\n",
       "  (1, 0.01735821),\n",
       "  (0, 0.023302732),\n",
       "  (2, 0.9018624)],\n",
       " 'n27fae': [(8, 0.9728812)],\n",
       " 'n27xhi': [(1, 0.99310213)],\n",
       " 'n27tul': [(1, 0.98609364)],\n",
       " 'n26xgk': [(6, 0.9849177)],\n",
       " 'n281oc': [(1, 0.16076817), (6, 0.83550394)],\n",
       " 'n2712w': [(6, 0.9894934)],\n",
       " 'n26wgo': [(6, 0.9964323)],\n",
       " 'n27tyn': [(1, 0.9940252)],\n",
       " 'n284u8': [(6, 0.9772297)],\n",
       " 'n278ql': [(6, 0.9927047)],\n",
       " 'n28emd': [(0, 0.010396157), (1, 0.29417998), (5, 0.6672647)],\n",
       " 'n27hs5': [(3, 0.010445874),\n",
       "  (2, 0.012473978),\n",
       "  (1, 0.01555247),\n",
       "  (0, 0.92024577)],\n",
       " 'n27ifm': [(2, 0.011345985),\n",
       "  (1, 0.014167746),\n",
       "  (0, 0.018567404),\n",
       "  (5, 0.91605854)],\n",
       " 'n28d5g': [(6, 0.9813334)],\n",
       " 'n275j4': [(2, 0.9785829)],\n",
       " 'n27gpy': [(6, 0.9924629)],\n",
       " 'n2831g': [(5, 0.13706528), (6, 0.85748684)],\n",
       " 'n26uxd': [(7, 0.010554342),\n",
       "  (6, 0.011706329),\n",
       "  (5, 0.013140671),\n",
       "  (4, 0.0149751445),\n",
       "  (3, 0.017418895),\n",
       "  (2, 0.020779105),\n",
       "  (0, 0.03409461),\n",
       "  (1, 0.8589033)],\n",
       " 'n276vv': [(6, 0.99147624)],\n",
       " 'n27rfi': [(1, 0.9631855)],\n",
       " 'n28d31': [(6, 0.48750338), (1, 0.5114375)],\n",
       " 'n27yci': [(6, 0.13956328), (5, 0.34142342), (8, 0.51663107)],\n",
       " 'n27pbs': [(9, 0.010582276),\n",
       "  (7, 0.01266495),\n",
       "  (6, 0.0140473135),\n",
       "  (5, 0.015768653),\n",
       "  (4, 0.017969783),\n",
       "  (3, 0.020895708),\n",
       "  (2, 0.024948573),\n",
       "  (1, 0.031137435),\n",
       "  (0, 0.040895887),\n",
       "  (8, 0.81108946)],\n",
       " 'n28az2': [(5, 0.9959758)],\n",
       " 'n27qgk': [(8, 0.9842193)],\n",
       " 'n283yf': [(6, 0.9971571)]}"
      ]
     },
     "execution_count": 10,
     "metadata": {},
     "output_type": "execute_result"
    }
   ],
   "source": [
    "id_corpus_iter = vectorized_corpus.get_vectorized_column_iterator(use_id_col=True)\n",
    "doc_topics = lda_model.get_topic_assignments(id_corpus_iter)\n",
    "print(len(doc_topics))\n",
    "doc_topics"
   ]
  },
  {
   "cell_type": "code",
   "execution_count": 11,
   "metadata": {},
   "outputs": [
    {
     "name": "stderr",
     "output_type": "stream",
     "text": [
      "                                                                                \r"
     ]
    },
    {
     "data": {
      "text/html": [
       "<div>\n",
       "<style scoped>\n",
       "    .dataframe tbody tr th:only-of-type {\n",
       "        vertical-align: middle;\n",
       "    }\n",
       "\n",
       "    .dataframe tbody tr th {\n",
       "        vertical-align: top;\n",
       "    }\n",
       "\n",
       "    .dataframe thead th {\n",
       "        text-align: right;\n",
       "    }\n",
       "</style>\n",
       "<table border=\"1\" class=\"dataframe\">\n",
       "  <thead>\n",
       "    <tr style=\"text-align: right;\">\n",
       "      <th></th>\n",
       "      <th>id</th>\n",
       "      <th>lda</th>\n",
       "      <th>probability</th>\n",
       "      <th>subreddit</th>\n",
       "    </tr>\n",
       "  </thead>\n",
       "  <tbody>\n",
       "    <tr>\n",
       "      <th>0</th>\n",
       "      <td>n27gmk</td>\n",
       "      <td>1</td>\n",
       "      <td>0.989378</td>\n",
       "      <td>ar15</td>\n",
       "    </tr>\n",
       "    <tr>\n",
       "      <th>1</th>\n",
       "      <td>n26pnc</td>\n",
       "      <td>4</td>\n",
       "      <td>0.011231</td>\n",
       "      <td>osugame</td>\n",
       "    </tr>\n",
       "    <tr>\n",
       "      <th>2</th>\n",
       "      <td>n26pnc</td>\n",
       "      <td>3</td>\n",
       "      <td>0.013056</td>\n",
       "      <td>osugame</td>\n",
       "    </tr>\n",
       "    <tr>\n",
       "      <th>3</th>\n",
       "      <td>n26pnc</td>\n",
       "      <td>2</td>\n",
       "      <td>0.015589</td>\n",
       "      <td>osugame</td>\n",
       "    </tr>\n",
       "    <tr>\n",
       "      <th>4</th>\n",
       "      <td>n26pnc</td>\n",
       "      <td>1</td>\n",
       "      <td>0.019408</td>\n",
       "      <td>osugame</td>\n",
       "    </tr>\n",
       "    <tr>\n",
       "      <th>...</th>\n",
       "      <td>...</td>\n",
       "      <td>...</td>\n",
       "      <td>...</td>\n",
       "      <td>...</td>\n",
       "    </tr>\n",
       "    <tr>\n",
       "      <th>227</th>\n",
       "      <td>n27pbs</td>\n",
       "      <td>0</td>\n",
       "      <td>0.040896</td>\n",
       "      <td>ethtrader</td>\n",
       "    </tr>\n",
       "    <tr>\n",
       "      <th>228</th>\n",
       "      <td>n27pbs</td>\n",
       "      <td>8</td>\n",
       "      <td>0.811070</td>\n",
       "      <td>ethtrader</td>\n",
       "    </tr>\n",
       "    <tr>\n",
       "      <th>229</th>\n",
       "      <td>n28az2</td>\n",
       "      <td>5</td>\n",
       "      <td>0.995976</td>\n",
       "      <td>classicwow</td>\n",
       "    </tr>\n",
       "    <tr>\n",
       "      <th>230</th>\n",
       "      <td>n27qgk</td>\n",
       "      <td>8</td>\n",
       "      <td>0.984219</td>\n",
       "      <td>RandomActsOfMuffDive</td>\n",
       "    </tr>\n",
       "    <tr>\n",
       "      <th>231</th>\n",
       "      <td>n283yf</td>\n",
       "      <td>6</td>\n",
       "      <td>0.997158</td>\n",
       "      <td>Overwatch</td>\n",
       "    </tr>\n",
       "  </tbody>\n",
       "</table>\n",
       "<p>232 rows × 4 columns</p>\n",
       "</div>"
      ],
      "text/plain": [
       "         id lda  probability             subreddit\n",
       "0    n27gmk   1     0.989378                  ar15\n",
       "1    n26pnc   4     0.011231               osugame\n",
       "2    n26pnc   3     0.013056               osugame\n",
       "3    n26pnc   2     0.015589               osugame\n",
       "4    n26pnc   1     0.019408               osugame\n",
       "..      ...  ..          ...                   ...\n",
       "227  n27pbs   0     0.040896             ethtrader\n",
       "228  n27pbs   8     0.811070             ethtrader\n",
       "229  n28az2   5     0.995976            classicwow\n",
       "230  n27qgk   8     0.984219  RandomActsOfMuffDive\n",
       "231  n283yf   6     0.997158             Overwatch\n",
       "\n",
       "[232 rows x 4 columns]"
      ]
     },
     "execution_count": 11,
     "metadata": {},
     "output_type": "execute_result"
    }
   ],
   "source": [
    "subreddits = vectorized_corpus.document_dataframe.select('id', 'subreddit').toPandas()\n",
    "topics_df = lda_model.get_cluster_results_as_df(doc_col_name=\"id\", join_df = subreddits)\n",
    "topics_df"
   ]
  },
  {
   "cell_type": "code",
   "execution_count": null,
   "metadata": {},
   "outputs": [],
   "source": []
  }
 ],
 "metadata": {
  "interpreter": {
   "hash": "645e6807a54f1780e2a687ae083eb2a94c3bf70f4809b5f746590e8ef179a45c"
  },
  "kernelspec": {
   "display_name": "Python 3.8.12 ('ihop')",
   "language": "python",
   "name": "python3"
  },
  "language_info": {
   "codemirror_mode": {
    "name": "ipython",
    "version": 3
   },
   "file_extension": ".py",
   "mimetype": "text/x-python",
   "name": "python",
   "nbconvert_exporter": "python",
   "pygments_lexer": "ipython3",
   "version": "3.8.12"
  },
  "orig_nbformat": 4
 },
 "nbformat": 4,
 "nbformat_minor": 2
}
