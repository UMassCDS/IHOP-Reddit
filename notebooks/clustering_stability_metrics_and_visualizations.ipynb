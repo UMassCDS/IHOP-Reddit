{
 "cells": [
  {
   "cell_type": "code",
   "execution_count": 4,
   "metadata": {},
   "outputs": [],
   "source": [
    "from pathlib import Path\n",
    "\n",
    "import seaborn as sns\n",
    "import pandas as pd\n",
    "\n",
    "from ihop.community2vec import GensimCommunity2Vec"
   ]
  },
  {
   "cell_type": "code",
   "execution_count": 5,
   "metadata": {},
   "outputs": [],
   "source": [
    "\n",
    "DATA_ROOT = Path(\"../data\")\n",
    "C2V_ROOT = DATA_ROOT / \"community2vec\"\n",
    "MONTHS = sorted([\"2021-04\", \"2021-05\", \"2021-06\", \"2021-07\", \"2021-08\", \"2021-09\", \"2021-10\", \"2021-11\", \"2021-12\", \"2022-01\", \"2022-02\", \"2022-03\"\n",
    "])\n",
    "\n",
    "C2V_MODELS = [GensimCommunity2Vec.load(C2V_ROOT / f\"RC_{m}\"/\"best_model\") for m in MONTHS]\n",
    "\n",
    "SUBREDDIT_COUNTS_CSVS = [C2V_ROOT / f\"RC_{m}\" / \"subreddit_counts.csv\" for m in MONTHS]"
   ]
  },
  {
   "cell_type": "markdown",
   "metadata": {},
   "source": [
    "# Basic Comparison of Top Most Popular Subreddits Month-to-Month\n",
    "\n",
    "In order to build the community2vec models, we kept the top 10K subreddits in each month by number of comments posted. Since the top subreddits will change over time, we need to know quickly and by how much. This can be determined using the [Jaccard Index](https://en.wikipedia.org/wiki/Jaccard_index) of the top subreddits between each month. Let $S_1$ and $S_2$ be the top 10K subreddits for months 1 and 2 respectively, then the similarity and diversity of top subreddits between those months is $\\frac{|S_1 \\cap S_2|}{|S_1 \\cup S_2|}$."
   ]
  },
  {
   "cell_type": "code",
   "execution_count": 6,
   "metadata": {},
   "outputs": [
    {
     "name": "stdout",
     "output_type": "stream",
     "text": [
      "Processing month: 2021-04\n",
      "Processing month: 2021-05\n",
      "Processing month: 2021-06\n",
      "Processing month: 2021-07\n",
      "Processing month: 2021-08\n",
      "Processing month: 2021-09\n",
      "Processing month: 2021-10\n",
      "Processing month: 2021-11\n",
      "Processing month: 2021-12\n",
      "Processing month: 2022-01\n",
      "Processing month: 2022-02\n",
      "Processing month: 2022-03\n"
     ]
    },
    {
     "data": {
      "text/html": [
       "<div>\n",
       "<style scoped>\n",
       "    .dataframe tbody tr th:only-of-type {\n",
       "        vertical-align: middle;\n",
       "    }\n",
       "\n",
       "    .dataframe tbody tr th {\n",
       "        vertical-align: top;\n",
       "    }\n",
       "\n",
       "    .dataframe thead th {\n",
       "        text-align: right;\n",
       "    }\n",
       "</style>\n",
       "<table border=\"1\" class=\"dataframe\">\n",
       "  <thead>\n",
       "    <tr style=\"text-align: right;\">\n",
       "      <th></th>\n",
       "      <th>Month 1</th>\n",
       "      <th>Month 2</th>\n",
       "      <th>Union Size</th>\n",
       "      <th>Intersection Size</th>\n",
       "      <th>Community2vec Top 10 Nearest Subreddit Neighbors Jaccard Index</th>\n",
       "      <th>Jaccard Index</th>\n",
       "    </tr>\n",
       "  </thead>\n",
       "  <tbody>\n",
       "    <tr>\n",
       "      <th>0</th>\n",
       "      <td>2021-04</td>\n",
       "      <td>2021-04</td>\n",
       "      <td>10000</td>\n",
       "      <td>10000</td>\n",
       "      <td>1.000000</td>\n",
       "      <td>1.000000</td>\n",
       "    </tr>\n",
       "    <tr>\n",
       "      <th>1</th>\n",
       "      <td>2021-04</td>\n",
       "      <td>2021-05</td>\n",
       "      <td>10805</td>\n",
       "      <td>9195</td>\n",
       "      <td>0.391981</td>\n",
       "      <td>0.850995</td>\n",
       "    </tr>\n",
       "    <tr>\n",
       "      <th>2</th>\n",
       "      <td>2021-04</td>\n",
       "      <td>2021-06</td>\n",
       "      <td>11128</td>\n",
       "      <td>8872</td>\n",
       "      <td>0.360147</td>\n",
       "      <td>0.797268</td>\n",
       "    </tr>\n",
       "    <tr>\n",
       "      <th>3</th>\n",
       "      <td>2021-04</td>\n",
       "      <td>2021-07</td>\n",
       "      <td>11350</td>\n",
       "      <td>8650</td>\n",
       "      <td>0.339040</td>\n",
       "      <td>0.762115</td>\n",
       "    </tr>\n",
       "    <tr>\n",
       "      <th>4</th>\n",
       "      <td>2021-04</td>\n",
       "      <td>2021-08</td>\n",
       "      <td>11466</td>\n",
       "      <td>8534</td>\n",
       "      <td>0.327428</td>\n",
       "      <td>0.744287</td>\n",
       "    </tr>\n",
       "    <tr>\n",
       "      <th>...</th>\n",
       "      <td>...</td>\n",
       "      <td>...</td>\n",
       "      <td>...</td>\n",
       "      <td>...</td>\n",
       "      <td>...</td>\n",
       "      <td>...</td>\n",
       "    </tr>\n",
       "    <tr>\n",
       "      <th>139</th>\n",
       "      <td>2022-03</td>\n",
       "      <td>2021-11</td>\n",
       "      <td>11501</td>\n",
       "      <td>8499</td>\n",
       "      <td>0.333720</td>\n",
       "      <td>0.738979</td>\n",
       "    </tr>\n",
       "    <tr>\n",
       "      <th>140</th>\n",
       "      <td>2022-03</td>\n",
       "      <td>2021-12</td>\n",
       "      <td>11375</td>\n",
       "      <td>8625</td>\n",
       "      <td>0.342240</td>\n",
       "      <td>0.758242</td>\n",
       "    </tr>\n",
       "    <tr>\n",
       "      <th>141</th>\n",
       "      <td>2022-03</td>\n",
       "      <td>2022-01</td>\n",
       "      <td>11202</td>\n",
       "      <td>8798</td>\n",
       "      <td>0.357977</td>\n",
       "      <td>0.785395</td>\n",
       "    </tr>\n",
       "    <tr>\n",
       "      <th>142</th>\n",
       "      <td>2022-03</td>\n",
       "      <td>2022-02</td>\n",
       "      <td>10749</td>\n",
       "      <td>9251</td>\n",
       "      <td>0.393537</td>\n",
       "      <td>0.860638</td>\n",
       "    </tr>\n",
       "    <tr>\n",
       "      <th>143</th>\n",
       "      <td>2022-03</td>\n",
       "      <td>2022-03</td>\n",
       "      <td>10000</td>\n",
       "      <td>10000</td>\n",
       "      <td>1.000000</td>\n",
       "      <td>1.000000</td>\n",
       "    </tr>\n",
       "  </tbody>\n",
       "</table>\n",
       "<p>144 rows × 6 columns</p>\n",
       "</div>"
      ],
      "text/plain": [
       "     Month 1  Month 2  Union Size  Intersection Size  \\\n",
       "0    2021-04  2021-04       10000              10000   \n",
       "1    2021-04  2021-05       10805               9195   \n",
       "2    2021-04  2021-06       11128               8872   \n",
       "3    2021-04  2021-07       11350               8650   \n",
       "4    2021-04  2021-08       11466               8534   \n",
       "..       ...      ...         ...                ...   \n",
       "139  2022-03  2021-11       11501               8499   \n",
       "140  2022-03  2021-12       11375               8625   \n",
       "141  2022-03  2022-01       11202               8798   \n",
       "142  2022-03  2022-02       10749               9251   \n",
       "143  2022-03  2022-03       10000              10000   \n",
       "\n",
       "     Community2vec Top 10 Nearest Subreddit Neighbors Jaccard Index  \\\n",
       "0                                             1.000000                \n",
       "1                                             0.391981                \n",
       "2                                             0.360147                \n",
       "3                                             0.339040                \n",
       "4                                             0.327428                \n",
       "..                                                 ...                \n",
       "139                                           0.333720                \n",
       "140                                           0.342240                \n",
       "141                                           0.357977                \n",
       "142                                           0.393537                \n",
       "143                                           1.000000                \n",
       "\n",
       "     Jaccard Index  \n",
       "0         1.000000  \n",
       "1         0.850995  \n",
       "2         0.797268  \n",
       "3         0.762115  \n",
       "4         0.744287  \n",
       "..             ...  \n",
       "139       0.738979  \n",
       "140       0.758242  \n",
       "141       0.785395  \n",
       "142       0.860638  \n",
       "143       1.000000  \n",
       "\n",
       "[144 rows x 6 columns]"
      ]
     },
     "metadata": {},
     "output_type": "display_data"
    }
   ],
   "source": [
    "C2V_N_NEAREST_NEIGHBORS = 10\n",
    "# Jaccard index for subreddits in community2vec models for each month in our year's worth of Reddit data\n",
    "records = []\n",
    "for i, model in enumerate(C2V_MODELS):\n",
    "    month_label = MONTHS[i]\n",
    "    print(\"Processing month:\", month_label)\n",
    "    current_model_keys = set(model.get_index_to_key())\n",
    "    \n",
    "    # Build up union and intersection values both for overall top subreddits and \n",
    "    # nearest neighbors under c2v models\n",
    "    for j, model2 in enumerate(C2V_MODELS):\n",
    "        month2_label = MONTHS[j]\n",
    "        current_model2_keys = set(model2.get_index_to_key())\n",
    "        union = current_model_keys.union(current_model2_keys)\n",
    "        union_size = len(union)\n",
    "        intersection_size = len(current_model_keys.intersection(current_model2_keys))\n",
    "\n",
    "        rolling_sum_c2v_jaccard = 0\n",
    "\n",
    "        # Check how much overlap there is between the nearest neighbors in the \n",
    "        # community2vec models\n",
    "        for w in current_model_keys:\n",
    "            nn_intersection_size = 0\n",
    "            nn_union_size = C2V_N_NEAREST_NEIGHBORS\n",
    "            model1_nearest_neighbors = set(model.get_nearest_neighbors(w, topn=C2V_N_NEAREST_NEIGHBORS))\n",
    "            if w in model2.w2v_model.wv:\n",
    "                model2_nearest_neighbors = set(model2.get_nearest_neighbors(w, topn=C2V_N_NEAREST_NEIGHBORS))\n",
    "                nn_intersection_size = len(model1_nearest_neighbors.intersection(model2_nearest_neighbors))\n",
    "                nn_union_size = len(model1_nearest_neighbors.union(model2_nearest_neighbors))\n",
    "            subreddit_ji_index = nn_intersection_size / nn_union_size\n",
    "            rolling_sum_c2v_jaccard += subreddit_ji_index\n",
    "\n",
    "        \n",
    "        c2v_nn_jaccard_avg = rolling_sum_c2v_jaccard / len(current_model_keys)\n",
    "    \n",
    "        records.append((month_label, month2_label, union_size, intersection_size, c2v_nn_jaccard_avg))\n",
    "    \n",
    "top_subreddit_ji_dataframe = pd.DataFrame.from_records(records, \n",
    "        columns = [\n",
    "            \"Month 1\", \n",
    "            \"Month 2\", \n",
    "            \"Union Size\", \n",
    "            \"Intersection Size\", \n",
    "            f\"Community2vec Top {C2V_N_NEAREST_NEIGHBORS} Nearest Subreddit Neighbors Jaccard Index\"])\n",
    "top_subreddit_ji_dataframe[\"Jaccard Index\"] = top_subreddit_ji_dataframe[\"Intersection Size\"] / top_subreddit_ji_dataframe[\"Union Size\"]\n",
    "\n",
    "display(top_subreddit_ji_dataframe)"
   ]
  },
  {
   "cell_type": "code",
   "execution_count": 7,
   "metadata": {},
   "outputs": [
    {
     "data": {
      "text/plain": [
       "Text(0.5, 1.0, 'Similarity between the Top Subreddits for each Month')"
      ]
     },
     "execution_count": 7,
     "metadata": {},
     "output_type": "execute_result"
    },
    {
     "data": {
      "image/png": "[encoded data removed]",
      "text/plain": [
       "<Figure size 432x288 with 2 Axes>"
      ]
     },
     "metadata": {
      "needs_background": "light"
     },
     "output_type": "display_data"
    }
   ],
   "source": [
    "sns.heatmap(top_subreddit_ji_dataframe.pivot(index = \"Month 1\", columns = \"Month 2\", values = \"Jaccard Index\")).set_title(\"Similarity between the Top Subreddits for each Month\")"
   ]
  },
  {
   "cell_type": "code",
   "execution_count": 8,
   "metadata": {},
   "outputs": [
    {
     "data": {
      "text/plain": [
       "Text(0.5, 1.0, 'Average Similarity between the Top 10 Nearest Subreddits in the Community2vec Model for each Month')"
      ]
     },
     "execution_count": 8,
     "metadata": {},
     "output_type": "execute_result"
    },
    {
     "data": {
      "image/png": "[encoded data removed]",
      "text/plain": [
       "<Figure size 432x288 with 2 Axes>"
      ]
     },
     "metadata": {
      "needs_background": "light"
     },
     "output_type": "display_data"
    }
   ],
   "source": [
    "sns.heatmap(top_subreddit_ji_dataframe.pivot(index = \"Month 1\", columns = \"Month 2\", values = f\"Community2vec Top {C2V_N_NEAREST_NEIGHBORS} Nearest Subreddit Neighbors Jaccard Index\")).set_title(f\"Average Similarity between the Top {C2V_N_NEAREST_NEIGHBORS} Nearest Subreddits in the Community2vec Model for each Month\")"
   ]
  },
  {
   "cell_type": "markdown",
   "metadata": {},
   "source": [
    "The closer to 1 the values are, the more similar the top subreddits are between those two months. This plot shows that months closer in time have more top subreddits in common that months further apart in time. "
   ]
  },
  {
   "cell_type": "markdown",
   "metadata": {},
   "source": [
    "# Month-to-month Cluster Stability Comparison\n",
    "We'd like to measure how much variation there is between the k-means clusters of subreddits based on the community2vec embeddings created from each month of Reddit comment data. \n",
    "\n",
    "Here, we use a single community2vec model for each month (don't vary the community2vec models). Each month's community2vec model is used to train 10 k-means models where the random seed for the cluster model is varied, then the inter- and intra-month stability for each cluster model is measured. We also vary the number of clusters allowed for each. For each number of clusters, \n",
    "\n",
    "The intra-month values (training multiple k-means models from same community2vec model for a single month) will tell us how sensitive the k-means clusters are to random initialization within the same time range and community2vec model. We expect these values to be low relative to inter-month values. If they are high, it's an indication that the clusterings are sensitive to random initializations and indicates they may be difficult to use for research purposes. \n",
    "\n",
    "The inter-month values (training multiple k-means models for two separate months and doing many pairwise comparisons) will tell us how much the clusterings change over time. In most cases, we expect these values to be low when comparing two months that are close together in time, but higher for months that are far apart. In other words, these metrics should give an indication of how much Reddit clusterings change as time goes on. However, there's the possibility for these values to be high when drastic changes occur on Reddit, such as when certain subreddits spike in popularity or are banned. In such cases, the inter-month stability metrics could serve as an indicator of large changes in Reddit's \"geography\". "
   ]
  },
  {
   "cell_type": "markdown",
   "metadata": {},
   "source": []
  }
 ],
 "metadata": {
  "kernelspec": {
   "display_name": "Python 3.9.0 ('ihop')",
   "language": "python",
   "name": "python3"
  },
  "language_info": {
   "codemirror_mode": {
    "name": "ipython",
    "version": 3
   },
   "file_extension": ".py",
   "mimetype": "text/x-python",
   "name": "python",
   "nbconvert_exporter": "python",
   "pygments_lexer": "ipython3",
   "version": "3.9.0"
  },
  "orig_nbformat": 4,
  "vscode": {
   "interpreter": {
    "hash": "645e6807a54f1780e2a687ae083eb2a94c3bf70f4809b5f746590e8ef179a45c"
   }
  }
 },
 "nbformat": 4,
 "nbformat_minor": 2
}
