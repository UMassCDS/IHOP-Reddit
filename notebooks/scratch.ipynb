{
 "cells": [
  {
   "cell_type": "code",
   "execution_count": 1,
   "metadata": {},
   "outputs": [
    {
     "name": "stderr",
     "output_type": "stream",
     "text": [
      "ihop.utils : 2022-03-23 10:25:56,297 : WARNING : WARNING: No HADOOP_HOME variable found, zstd decompression may not be available\n",
      "22/03/23 10:25:56 WARN Utils: Your hostname, virginia-beastbox resolves to a loopback address: 127.0.1.1; using 10.3.40.172 instead (on interface wlp147s0)\n",
      "22/03/23 10:25:56 WARN Utils: Set SPARK_LOCAL_IP if you need to bind to another address\n",
      "Using Spark's default log4j profile: org/apache/spark/log4j-defaults.properties\n",
      "Setting default log level to \"WARN\".\n",
      "To adjust logging level use sc.setLogLevel(newLevel). For SparkR, use setLogLevel(newLevel).\n",
      "22/03/23 10:25:57 WARN NativeCodeLoader: Unable to load native-hadoop library for your platform... using builtin-java classes where applicable\n"
     ]
    }
   ],
   "source": [
    "import logging\n",
    "\n",
    "import ihop.utils\n",
    "\n",
    "logging.basicConfig(format=\"%(name)s : %(asctime)s : %(levelname)s : %(message)s\")\n",
    "spark = ihop.utils.get_spark_session(\"IHOP Scratch notebook\", config={\"spark.driver.memory\":\"4g\"})"
   ]
  },
  {
   "cell_type": "code",
   "execution_count": 3,
   "metadata": {},
   "outputs": [],
   "source": [
    "input_files = [\"/home/virginia/workspace/IHOP/data/bagOfWords/2021-05_joined_submissions_comments_5percentTopUsersExcludedFromComments_03212022.parquet\",\"/home/virginia/workspace/IHOP/data/bagOfWords/2021-05_to_2021-06_joined_submissions_comments_0percentTopUsersExcludedFromComments_02102022.parquet\"]\n",
    "input_df = spark.read.parquet(*input_files)"
   ]
  },
  {
   "cell_type": "code",
   "execution_count": null,
   "metadata": {},
   "outputs": [
    {
     "data": {
      "text/plain": [
       "StructType(List(StructField(subreddit,StringType,true),StructField(author,StringType,true),StructField(created_utc,StringType,true),StructField(id,StringType,true),StructField(score,IntegerType,true),StructField(selftext,StringType,true),StructField(title,StringType,true),StructField(url,StringType,true),StructField(fullname_id,StringType,true),StructField(comments_subreddit,StringType,true),StructField(comments_id,StringType,true),StructField(parent_id,StringType,true),StructField(comments_score,IntegerType,true),StructField(link_id,StringType,true),StructField(comments_author,StringType,true),StructField(body,StringType,true),StructField(comments_created_utc,IntegerType,true),StructField(time_to_comment_in_seconds,DoubleType,true)))"
      ]
     },
     "execution_count": 4,
     "metadata": {},
     "output_type": "execute_result"
    }
   ],
   "source": [
    "input_df.schema"
   ]
  },
  {
   "cell_type": "code",
   "execution_count": null,
   "metadata": {},
   "outputs": [
    {
     "name": "stdout",
     "output_type": "stream",
     "text": [
      "+-----------------+-----------------+-----------+------+-----+--------------------+--------------------+--------------------+-----------+------------------+-----------+----------+--------------+---------+------------------+--------------------+--------------------+--------------------------+\n",
      "|        subreddit|           author|created_utc|    id|score|            selftext|               title|                 url|fullname_id|comments_subreddit|comments_id| parent_id|comments_score|  link_id|   comments_author|                body|comments_created_utc|time_to_comment_in_seconds|\n",
      "+-----------------+-----------------+-----------+------+-----+--------------------+--------------------+--------------------+-----------+------------------+-----------+----------+--------------+---------+------------------+--------------------+--------------------+--------------------------+\n",
      "|             pics|thingsthatmakeugo| 1619827301|n26qct|    7|                    |Looking for a rep...|https://i.redd.it...|  t3_n26qct|              pics|    gwhpae4|t1_gwhlm2i|             3|t3_n26qct|Weirdo-that-writes|Yeah, I have one....|          1619830294|                    2993.0|\n",
      "|             pics|thingsthatmakeugo| 1619827301|n26qct|    7|                    |Looking for a rep...|https://i.redd.it...|  t3_n26qct|              pics|    gwi6597| t3_n26qct|             2|t3_n26qct|       Bgfunoldguy|    Irreplaceable...|          1619839686|                   12385.0|\n",
      "|             pics|thingsthatmakeugo| 1619827301|n26qct|    7|                    |Looking for a rep...|https://i.redd.it...|  t3_n26qct|              pics|    gwhr506| t3_n26qct|             2|t3_n26qct|     NothosAdrisor|May I suggest a n...|          1619831265|                    3964.0|\n",
      "|             pics|thingsthatmakeugo| 1619827301|n26qct|    7|                    |Looking for a rep...|https://i.redd.it...|  t3_n26qct|              pics|    gwhjl5q| t3_n26qct|             1|t3_n26qct| thingsthatmakeugo|It used to have a...|          1619827369|                      68.0|\n",
      "|             pics|thingsthatmakeugo| 1619827301|n26qct|    7|                    |Looking for a rep...|https://i.redd.it...|  t3_n26qct|              pics|    gwhljp7|t1_gwhkbhf|             2|t3_n26qct| thingsthatmakeugo|a security blanke...|          1619828366|                    1065.0|\n",
      "|             pics|thingsthatmakeugo| 1619827301|n26qct|    7|                    |Looking for a rep...|https://i.redd.it...|  t3_n26qct|              pics|    gwhlme4|t1_gwhkofu|             1|t3_n26qct| thingsthatmakeugo|                  🙄|          1619828405|                    1104.0|\n",
      "|             pics|thingsthatmakeugo| 1619827301|n26qct|    7|                    |Looking for a rep...|https://i.redd.it...|  t3_n26qct|              pics|    gwhrkwd|t1_gwhp9zj|             0|t3_n26qct| thingsthatmakeugo|you sound sad, ar...|          1619831504|                    4203.0|\n",
      "|             pics|thingsthatmakeugo| 1619827301|n26qct|    7|                    |Looking for a rep...|https://i.redd.it...|  t3_n26qct|              pics|    gwhrmqp|t1_gwhpz2k|             1|t3_n26qct| thingsthatmakeugo|it's invalid, fee...|          1619831532|                    4231.0|\n",
      "|             pics|thingsthatmakeugo| 1619827301|n26qct|    7|                    |Looking for a rep...|https://i.redd.it...|  t3_n26qct|              pics|    gwhrq33|t1_gwhmky5|             2|t3_n26qct| thingsthatmakeugo|          thank you!|          1619831581|                    4280.0|\n",
      "|             pics|thingsthatmakeugo| 1619827301|n26qct|    7|                    |Looking for a rep...|https://i.redd.it...|  t3_n26qct|              pics|    gwhru29|t1_gwhrodx|             2|t3_n26qct| thingsthatmakeugo|i mean whatever m...|          1619831639|                    4338.0|\n",
      "|             pics|thingsthatmakeugo| 1619827301|n26qct|    7|                    |Looking for a rep...|https://i.redd.it...|  t3_n26qct|              pics|    gwhvryc|t1_gwhuamw|             1|t3_n26qct| thingsthatmakeugo|my dad used to ca...|          1619833744|                    6443.0|\n",
      "|             pics|thingsthatmakeugo| 1619827301|n26qct|    7|                    |Looking for a rep...|https://i.redd.it...|  t3_n26qct|              pics|    gwhkofu| t3_n26qct|             2|t3_n26qct|      ourendleswar|     r/lostredditors|          1619827920|                     619.0|\n",
      "|             pics|thingsthatmakeugo| 1619827301|n26qct|    7|                    |Looking for a rep...|https://i.redd.it...|  t3_n26qct|              pics|    gwhmky5|t1_gwhjl5q|             2|t3_n26qct|           Arylwyn|[try this](https:...|          1619828895|                    1594.0|\n",
      "|             pics|thingsthatmakeugo| 1619827301|n26qct|    7|                    |Looking for a rep...|https://i.redd.it...|  t3_n26qct|              pics|    gwusmwj|t1_gwhsb4c|             1|t3_n26qct|      vlashqiptare|Absolutely not tr...|          1620091504|                  264203.0|\n",
      "|   careerguidance|        Rum_Ham93| 1619827387|n26rca|    2|Hi everyone, \\n\\n...|Any Public Health...|https://www.reddi...|  t3_n26rca|    careerguidance|    gxw23om| t3_n26rca|             1|t3_n26rca|      speaktoosoon|I don't work in t...|          1620847370|                 1019983.0|\n",
      "|             cats|        Jenmegs82| 1619827517|n26sub|   30|                    |The squad just lo...|https://i.redd.it...|  t3_n26sub|              cats|    gwhkgfa|t1_gwhk7m1|             1|t3_n26sub|         Jenmegs82|Lol. It's a mirac...|          1619827807|                     290.0|\n",
      "|             cats|        Jenmegs82| 1619827517|n26sub|   30|                    |The squad just lo...|https://i.redd.it...|  t3_n26sub|              cats|    gwhrtve| t3_n26sub|             1|t3_n26sub|        KingSnaily|Welcome the the f...|          1619831636|                    4119.0|\n",
      "|RoyaleHighTrading|     thatonedanee| 1619827649|n26u84|    1|     Any offers? TwT|      TRADING HALL19|https://www.reddi...|  t3_n26u84| RoyaleHighTrading|    gwhokmh|t1_gwhoiz7|            -2|t3_n26u84|      thatonedanee|People gives 8 mi...|          1619829923|                    2274.0|\n",
      "|Phatasswhitegirls|   blondegoldmine| 1619827685|n26uk6|    3|                    |   I got it all baby|https://i.redd.it...|  t3_n26uk6| Phatasswhitegirls|    gwhk92c| t3_n26uk6|             1|t3_n26uk6|    blondegoldmine|https://onlyfans....|          1619827701|                      16.0|\n",
      "|Phatasswhitegirls|   blondegoldmine| 1619827685|n26uk6|    3|                    |   I got it all baby|https://i.redd.it...|  t3_n26uk6| Phatasswhitegirls|    gwv4sd8|t1_gwimycw|             1|t3_n26uk6|    blondegoldmine|          I'm 5'9 :)|          1620097660|                  269975.0|\n",
      "+-----------------+-----------------+-----------+------+-----+--------------------+--------------------+--------------------+-----------+------------------+-----------+----------+--------------+---------+------------------+--------------------+--------------------+--------------------------+\n",
      "only showing top 20 rows\n",
      "\n"
     ]
    }
   ],
   "source": [
    "input_df.show()"
   ]
  },
  {
   "cell_type": "code",
   "execution_count": null,
   "metadata": {},
   "outputs": [],
   "source": []
  }
 ],
 "metadata": {
  "interpreter": {
   "hash": "645e6807a54f1780e2a687ae083eb2a94c3bf70f4809b5f746590e8ef179a45c"
  },
  "kernelspec": {
   "display_name": "Python 3.8.12 ('ihop')",
   "language": "python",
   "name": "python3"
  },
  "language_info": {
   "codemirror_mode": {
    "name": "ipython",
    "version": 3
   },
   "file_extension": ".py",
   "mimetype": "text/x-python",
   "name": "python",
   "nbconvert_exporter": "python",
   "pygments_lexer": "ipython3",
   "version": "3.9.13"
  },
  "orig_nbformat": 4
 },
 "nbformat": 4,
 "nbformat_minor": 2
}
