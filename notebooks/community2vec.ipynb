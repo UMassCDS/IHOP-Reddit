{
 "cells": [
  {
   "cell_type": "code",
   "execution_count": 1,
   "metadata": {},
   "outputs": [
    {
     "name": "stderr",
     "output_type": "stream",
     "text": [
      "2022-01-07 19:25:29,281 : INFO : NumExpr defaulting to 4 threads.\n"
     ]
    }
   ],
   "source": [
    "%load_ext autoreload\n",
    "%autoreload 1\n",
    "\n",
    "import logging\n",
    "\n",
    "logging.basicConfig(format='%(asctime)s : %(levelname)s : %(message)s', level=logging.INFO)\n",
    "\n",
    "%aimport ihop.community2vec\n",
    "%aimport ihop.import_data"
   ]
  },
  {
   "cell_type": "code",
   "execution_count": 2,
   "metadata": {},
   "outputs": [
    {
     "name": "stderr",
     "output_type": "stream",
     "text": [
      "22/01/07 19:25:36 WARN Utils: Your hostname, Kurt resolves to a loopback address: 127.0.1.1; using 192.168.0.11 instead (on interface wlp4s0)\n",
      "22/01/07 19:25:36 WARN Utils: Set SPARK_LOCAL_IP if you need to bind to another address\n",
      "Using Spark's default log4j profile: org/apache/spark/log4j-defaults.properties\n",
      "Setting default log level to \"WARN\".\n",
      "To adjust logging level use sc.setLogLevel(newLevel). For SparkR, use setLogLevel(newLevel).\n",
      "22/01/07 19:25:42 WARN Utils: Service 'SparkUI' could not bind on port 4040. Attempting port 4041.\n",
      "22/01/07 19:25:42 WARN Utils: Service 'SparkUI' could not bind on port 4041. Attempting port 4042.\n",
      "22/01/07 19:25:42 WARN Utils: Service 'SparkUI' could not bind on port 4042. Attempting port 4043.\n"
     ]
    },
    {
     "name": "stdout",
     "output_type": "stream",
     "text": [
      "Spark configuration:\n",
      "[('spark.app.startTime', '1641601538182'), ('spark.executor.id', 'driver'), ('spark.driver.host', '192.168.0.11'), ('spark.sql.warehouse.dir', 'file:/home/virginia/Documents/CenterForDataScience/ZuckermanProj/IHOP/notebooks/spark-warehouse'), ('spark.driver.port', '33613'), ('spark.app.name', 'Community2vec Notebook'), ('spark.rdd.compress', 'True'), ('spark.app.id', 'local-1641601542937'), ('spark.serializer.objectStreamReset', '100'), ('spark.master', 'local[*]'), ('spark.submit.pyFiles', ''), ('spark.submit.deployMode', 'client'), ('spark.executor.memory', '4G'), ('spark.executor.extraLibraryPath', '/home/virginia/hadoop-3.3.1/lib/native'), ('spark.ui.showConsoleProgress', 'true'), ('spark.driver.extraLibraryPath', '/home/virginia/hadoop-3.3.1/lib/native')]\n"
     ]
    }
   ],
   "source": [
    "spark = ihop.utils.get_spark_session(\"Community2vec Notebook\")"
   ]
  },
  {
   "cell_type": "code",
   "execution_count": 3,
   "metadata": {},
   "outputs": [
    {
     "name": "stdout",
     "output_type": "stream",
     "text": [
      "VOCAB SIZE: 2275\n",
      "VOCAB SNIPPET:\n",
      "AskReddit : 486\n",
      "CFB : 403\n",
      "CrazyIdeas : 261\n",
      "news : 158\n",
      "ConciseIAmA : 147\n",
      "4chan4trump : 136\n",
      "politics : 117\n",
      "RocketLeagueExchange : 96\n",
      "The_Donald : 90\n",
      "nba : 90\n",
      "edc_raffle : 77\n",
      "worldnews : 74\n",
      "TOTAL COMMENT COUNT: 10000\n"
     ]
    }
   ],
   "source": [
    "vocab = ihop.community2vec.get_vocabulary(\"../data/community2vec/sample_data/subreddit_counts.csv\")\n",
    "print(\"VOCAB SIZE:\", len(vocab))\n",
    "print(\"VOCAB SNIPPET:\")\n",
    "for i, (k,v) in enumerate(vocab.items()):\n",
    "    print(k,\":\",v)\n",
    "    if i>10:\n",
    "        break\n",
    "\n",
    "print(\"TOTAL COMMENT COUNT:\", sum(vocab.values()))"
   ]
  },
  {
   "cell_type": "code",
   "execution_count": 6,
   "metadata": {},
   "outputs": [
    {
     "name": "stderr",
     "output_type": "stream",
     "text": [
      "2022-01-07 19:26:46,098 : INFO : Word2Vec lifecycle event {'params': 'Word2Vec(vocab=0, vector_size=150, alpha=0.025)', 'datetime': '2022-01-07T19:26:46.098600', 'gensim': '4.1.2', 'python': '3.8.12 (default, Oct 12 2021, 13:49:34) \\n[GCC 7.5.0]', 'platform': 'Linux-5.4.0-92-generic-x86_64-with-glibc2.17', 'event': 'created'}\n",
      "2022-01-07 19:26:46,100 : INFO : Processing provided word frequencies\n",
      "2022-01-07 19:26:46,101 : INFO : collected 2275 unique word types, with total frequency of 10000\n",
      "2022-01-07 19:26:46,102 : INFO : Creating a fresh vocabulary\n",
      "2022-01-07 19:26:46,138 : INFO : Word2Vec lifecycle event {'msg': 'effective_min_count=0 retains 2275 unique words (100.0%% of original 2275, drops 0)', 'datetime': '2022-01-07T19:26:46.138236', 'gensim': '4.1.2', 'python': '3.8.12 (default, Oct 12 2021, 13:49:34) \\n[GCC 7.5.0]', 'platform': 'Linux-5.4.0-92-generic-x86_64-with-glibc2.17', 'event': 'prepare_vocab'}\n",
      "2022-01-07 19:26:46,147 : INFO : Word2Vec lifecycle event {'msg': 'effective_min_count=0 leaves 10000 word corpus (100.0%% of original 10000, drops 0)', 'datetime': '2022-01-07T19:26:46.147615', 'gensim': '4.1.2', 'python': '3.8.12 (default, Oct 12 2021, 13:49:34) \\n[GCC 7.5.0]', 'platform': 'Linux-5.4.0-92-generic-x86_64-with-glibc2.17', 'event': 'prepare_vocab'}\n",
      "2022-01-07 19:26:46,215 : INFO : deleting the raw counts dictionary of 2275 items\n",
      "2022-01-07 19:26:46,238 : INFO : sample=0 downsamples 0 most-common words\n",
      "2022-01-07 19:26:46,250 : INFO : Word2Vec lifecycle event {'msg': 'downsampling leaves estimated 10000 word corpus (100.0%% of prior 10000)', 'datetime': '2022-01-07T19:26:46.250118', 'gensim': '4.1.2', 'python': '3.8.12 (default, Oct 12 2021, 13:49:34) \\n[GCC 7.5.0]', 'platform': 'Linux-5.4.0-92-generic-x86_64-with-glibc2.17', 'event': 'prepare_vocab'}\n",
      "2022-01-07 19:26:46,490 : INFO : estimated required memory for 2275 words and 150 dimensions: 3867500 bytes\n",
      "2022-01-07 19:26:46,499 : INFO : resetting layer weights\n"
     ]
    }
   ],
   "source": [
    "from ihop.community2vec import GensimCommunity2Vec\n",
    "\n",
    "myc2v = GensimCommunity2Vec.init_with_spark(spark, vocab, \"../data/community2vec/sample_data/user_contexts/part-00000-0ad8096e-a7b4-4941-8946-0a8c7cb8108d-c000.csv.bz2\")\n"
   ]
  },
  {
   "cell_type": "code",
   "execution_count": 7,
   "metadata": {},
   "outputs": [
    {
     "name": "stdout",
     "output_type": "stream",
     "text": [
      "CHECK INITIALIZATION\n",
      "Longest sentence: 258\n",
      "Num sentences: 7231\n",
      "Random embeddings nearest neighbor: [('ImagesOfThe2010s', 0.26547014713287354), ('confession', 0.2560444176197052), ('circlejerk', 0.25592470169067383), ('FFXV', 0.23708847165107727), ('ImagesOfNetherlands', 0.22937066853046417), ('BannedFromThe_Donald', 0.22841127216815948), ('GundamExVs', 0.22638258337974548), ('neovim', 0.2199598252773285), ('Drugs', 0.21625253558158875), ('Anxiety', 0.21418383717536926)]\n"
     ]
    }
   ],
   "source": [
    "print(\"CHECK INITIALIZATION\")\n",
    "print(\"Longest sentence:\", myc2v.max_comments)\n",
    "print(\"Num sentences:\", myc2v.num_users)\n",
    "print(\"Random embeddings nearest neighbor:\", myc2v.w2v_model.wv.most_similar(\"AskReddit\"))"
   ]
  },
  {
   "cell_type": "code",
   "execution_count": 8,
   "metadata": {},
   "outputs": [
    {
     "name": "stderr",
     "output_type": "stream",
     "text": [
      "2022-01-07 19:26:59,881 : INFO : files read into PathLineSentences:../data/community2vec/sample_data/user_contexts/part-00000-0ad8096e-a7b4-4941-8946-0a8c7cb8108d-c000.csv.bz2\n",
      "2022-01-07 19:26:59,882 : INFO : Word2Vec lifecycle event {'msg': 'training model with 3 workers on 2275 vocabulary and 150 features, using sg=1 hs=0 sample=0 negative=20 window=258 shrink_windows=True', 'datetime': '2022-01-07T19:26:59.882615', 'gensim': '4.1.2', 'python': '3.8.12 (default, Oct 12 2021, 13:49:34) \\n[GCC 7.5.0]', 'platform': 'Linux-5.4.0-92-generic-x86_64-with-glibc2.17', 'event': 'train'}\n",
      "2022-01-07 19:26:59,935 : INFO : reading file ../data/community2vec/sample_data/user_contexts/part-00000-0ad8096e-a7b4-4941-8946-0a8c7cb8108d-c000.csv.bz2\n",
      "2022-01-07 19:27:00,083 : INFO : worker thread finished; awaiting finish of 2 more threads\n",
      "2022-01-07 19:27:00,086 : INFO : worker thread finished; awaiting finish of 1 more threads\n",
      "2022-01-07 19:27:01,133 : INFO : EPOCH 1 - PROGRESS: at 100.00% examples, 7696 words/s, in_qsize 0, out_qsize 1\n",
      "2022-01-07 19:27:01,135 : INFO : worker thread finished; awaiting finish of 0 more threads\n",
      "2022-01-07 19:27:01,137 : INFO : EPOCH - 1 : training on 9221 raw words (9221 effective words) took 1.2s, 7671 effective words/s\n",
      "2022-01-07 19:27:01,172 : INFO : reading file ../data/community2vec/sample_data/user_contexts/part-00000-0ad8096e-a7b4-4941-8946-0a8c7cb8108d-c000.csv.bz2\n",
      "2022-01-07 19:27:01,365 : INFO : worker thread finished; awaiting finish of 2 more threads\n",
      "2022-01-07 19:27:01,367 : INFO : worker thread finished; awaiting finish of 1 more threads\n",
      "2022-01-07 19:27:02,729 : INFO : EPOCH 2 - PROGRESS: at 100.00% examples, 5922 words/s, in_qsize 0, out_qsize 1\n",
      "2022-01-07 19:27:02,731 : INFO : worker thread finished; awaiting finish of 0 more threads\n",
      "2022-01-07 19:27:02,732 : INFO : EPOCH - 2 : training on 9221 raw words (9221 effective words) took 1.6s, 5911 effective words/s\n",
      "2022-01-07 19:27:02,780 : INFO : reading file ../data/community2vec/sample_data/user_contexts/part-00000-0ad8096e-a7b4-4941-8946-0a8c7cb8108d-c000.csv.bz2\n",
      "2022-01-07 19:27:03,055 : INFO : worker thread finished; awaiting finish of 2 more threads\n",
      "2022-01-07 19:27:03,058 : INFO : worker thread finished; awaiting finish of 1 more threads\n",
      "2022-01-07 19:27:04,289 : INFO : EPOCH 3 - PROGRESS: at 100.00% examples, 6110 words/s, in_qsize 0, out_qsize 1\n",
      "2022-01-07 19:27:04,291 : INFO : worker thread finished; awaiting finish of 0 more threads\n",
      "2022-01-07 19:27:04,292 : INFO : EPOCH - 3 : training on 9221 raw words (9221 effective words) took 1.5s, 6097 effective words/s\n",
      "2022-01-07 19:27:04,301 : INFO : reading file ../data/community2vec/sample_data/user_contexts/part-00000-0ad8096e-a7b4-4941-8946-0a8c7cb8108d-c000.csv.bz2\n",
      "2022-01-07 19:27:04,372 : INFO : worker thread finished; awaiting finish of 2 more threads\n",
      "2022-01-07 19:27:04,375 : INFO : worker thread finished; awaiting finish of 1 more threads\n",
      "2022-01-07 19:27:05,273 : INFO : worker thread finished; awaiting finish of 0 more threads\n",
      "2022-01-07 19:27:05,276 : INFO : EPOCH - 4 : training on 9221 raw words (9221 effective words) took 1.0s, 9468 effective words/s\n",
      "2022-01-07 19:27:05,326 : INFO : reading file ../data/community2vec/sample_data/user_contexts/part-00000-0ad8096e-a7b4-4941-8946-0a8c7cb8108d-c000.csv.bz2\n",
      "2022-01-07 19:27:05,573 : INFO : worker thread finished; awaiting finish of 2 more threads\n",
      "2022-01-07 19:27:05,581 : INFO : worker thread finished; awaiting finish of 1 more threads\n",
      "2022-01-07 19:27:06,917 : INFO : EPOCH 5 - PROGRESS: at 100.00% examples, 5796 words/s, in_qsize 0, out_qsize 1\n",
      "2022-01-07 19:27:06,919 : INFO : worker thread finished; awaiting finish of 0 more threads\n",
      "2022-01-07 19:27:06,921 : INFO : EPOCH - 5 : training on 9221 raw words (9221 effective words) took 1.6s, 5783 effective words/s\n",
      "2022-01-07 19:27:06,922 : INFO : Word2Vec lifecycle event {'msg': 'training on 46105 raw words (46105 effective words) took 7.0s, 6550 effective words/s', 'datetime': '2022-01-07T19:27:06.922430', 'gensim': '4.1.2', 'python': '3.8.12 (default, Oct 12 2021, 13:49:34) \\n[GCC 7.5.0]', 'platform': 'Linux-5.4.0-92-generic-x86_64-with-glibc2.17', 'event': 'train'}\n"
     ]
    },
    {
     "data": {
      "text/plain": [
       "(46105, 46105)"
      ]
     },
     "execution_count": 8,
     "metadata": {},
     "output_type": "execute_result"
    }
   ],
   "source": [
    "myc2v.train(compute_loss=True)"
   ]
  },
  {
   "cell_type": "code",
   "execution_count": null,
   "metadata": {},
   "outputs": [
    {
     "data": {
      "text/plain": [
       "218261.59375"
      ]
     },
     "execution_count": 15,
     "metadata": {},
     "output_type": "execute_result"
    }
   ],
   "source": [
    "myc2v.w2v_model.get_latest_training_loss()"
   ]
  },
  {
   "cell_type": "code",
   "execution_count": 9,
   "metadata": {},
   "outputs": [
    {
     "data": {
      "text/plain": [
       "[('PUBATTLEGROUNDS', 0.9995643496513367),\n",
       " ('relationships', 0.9995587468147278),\n",
       " ('cars', 0.9995018839836121),\n",
       " ('RecruitCS', 0.9994935989379883),\n",
       " ('RandomActsOfBlowJob', 0.9994513988494873),\n",
       " ('sneakermarket', 0.9994426965713501),\n",
       " ('twinpeaks', 0.9993971586227417),\n",
       " ('NHLStreams', 0.9993908405303955),\n",
       " ('somethingimade', 0.9993491768836975),\n",
       " ('soccer', 0.9993222951889038)]"
      ]
     },
     "execution_count": 9,
     "metadata": {},
     "output_type": "execute_result"
    }
   ],
   "source": [
    "myc2v.w2v_model.wv.most_similar(\"AskReddit\", topn=10)"
   ]
  },
  {
   "cell_type": "code",
   "execution_count": 10,
   "metadata": {},
   "outputs": [
    {
     "data": {
      "text/plain": [
       "[('democrats', 0.8608246445655823),\n",
       " ('science', 0.8501731753349304),\n",
       " ('vegan', 0.8471425175666809),\n",
       " ('nottheonion', 0.8452572822570801),\n",
       " ('worldnews', 0.8441250324249268),\n",
       " ('GhostAdventures', 0.8412648439407349),\n",
       " ('CAguns', 0.8408916592597961),\n",
       " ('HelloInternet', 0.8403008580207825),\n",
       " ('SULeaks', 0.8400110006332397),\n",
       " ('electricians', 0.8399454355239868)]"
      ]
     },
     "execution_count": 10,
     "metadata": {},
     "output_type": "execute_result"
    }
   ],
   "source": [
    "myc2v.w2v_model.wv.most_similar(\"news\", topn=10)"
   ]
  },
  {
   "cell_type": "code",
   "execution_count": null,
   "metadata": {},
   "outputs": [],
   "source": []
  }
 ],
 "metadata": {
  "interpreter": {
   "hash": "645e6807a54f1780e2a687ae083eb2a94c3bf70f4809b5f746590e8ef179a45c"
  },
  "kernelspec": {
   "display_name": "Python 3.8.12 64-bit ('ihop': conda)",
   "language": "python",
   "name": "python3"
  },
  "language_info": {
   "codemirror_mode": {
    "name": "ipython",
    "version": 3
   },
   "file_extension": ".py",
   "mimetype": "text/x-python",
   "name": "python",
   "nbconvert_exporter": "python",
   "pygments_lexer": "ipython3",
   "version": "3.8.12"
  },
  "orig_nbformat": 4
 },
 "nbformat": 4,
 "nbformat_minor": 2
}
