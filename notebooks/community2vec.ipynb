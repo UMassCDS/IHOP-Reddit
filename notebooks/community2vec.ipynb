{
 "cells": [
  {
   "cell_type": "code",
   "execution_count": 2,
   "metadata": {},
   "outputs": [
    {
     "name": "stderr",
     "output_type": "stream",
     "text": [
      "2022-01-07 13:48:02,621 : INFO : NumExpr defaulting to 4 threads.\n"
     ]
    }
   ],
   "source": [
    "%load_ext autoreload\n",
    "%autoreload 1\n",
    "\n",
    "import logging\n",
    "\n",
    "logging.basicConfig(format='%(asctime)s : %(levelname)s : %(message)s', level=logging.INFO)\n",
    "\n",
    "%aimport ihop.community2vec\n",
    "%aimport ihop.import_data"
   ]
  },
  {
   "cell_type": "code",
   "execution_count": 3,
   "metadata": {},
   "outputs": [
    {
     "name": "stderr",
     "output_type": "stream",
     "text": [
      "22/01/07 13:48:08 WARN Utils: Your hostname, Kurt resolves to a loopback address: 127.0.1.1; using 192.168.0.11 instead (on interface wlp4s0)\n",
      "22/01/07 13:48:08 WARN Utils: Set SPARK_LOCAL_IP if you need to bind to another address\n",
      "Using Spark's default log4j profile: org/apache/spark/log4j-defaults.properties\n",
      "Setting default log level to \"WARN\".\n",
      "To adjust logging level use sc.setLogLevel(newLevel). For SparkR, use setLogLevel(newLevel).\n",
      "22/01/07 13:48:13 WARN Utils: Service 'SparkUI' could not bind on port 4040. Attempting port 4041.\n",
      "22/01/07 13:48:13 WARN Utils: Service 'SparkUI' could not bind on port 4041. Attempting port 4042.\n",
      "22/01/07 13:48:13 WARN Utils: Service 'SparkUI' could not bind on port 4042. Attempting port 4043.\n"
     ]
    },
    {
     "name": "stdout",
     "output_type": "stream",
     "text": [
      "Spark configuration:\n",
      "[('spark.app.id', 'local-1641581294198'), ('spark.executor.id', 'driver'), ('spark.driver.host', '192.168.0.11'), ('spark.sql.warehouse.dir', 'file:/home/virginia/Documents/CenterForDataScience/ZuckermanProj/IHOP/notebooks/spark-warehouse'), ('spark.app.startTime', '1641581290092'), ('spark.app.name', 'Community2vec Notebook'), ('spark.driver.port', '46543'), ('spark.rdd.compress', 'True'), ('spark.serializer.objectStreamReset', '100'), ('spark.master', 'local[*]'), ('spark.submit.pyFiles', ''), ('spark.submit.deployMode', 'client'), ('spark.executor.memory', '4G'), ('spark.executor.extraLibraryPath', '/home/virginia/hadoop-3.3.1/lib/native'), ('spark.ui.showConsoleProgress', 'true'), ('spark.driver.extraLibraryPath', '/home/virginia/hadoop-3.3.1/lib/native')]\n"
     ]
    }
   ],
   "source": [
    "spark = ihop.utils.get_spark_session(\"Community2vec Notebook\")"
   ]
  },
  {
   "cell_type": "code",
   "execution_count": 6,
   "metadata": {},
   "outputs": [
    {
     "name": "stdout",
     "output_type": "stream",
     "text": [
      "VOCAB SIZE: 2275\n",
      "VOCAB SNIPPET:\n",
      "AskReddit : 486\n",
      "CFB : 403\n",
      "CrazyIdeas : 261\n",
      "news : 158\n",
      "ConciseIAmA : 147\n",
      "4chan4trump : 136\n",
      "politics : 117\n",
      "RocketLeagueExchange : 96\n",
      "The_Donald : 90\n",
      "nba : 90\n",
      "edc_raffle : 77\n",
      "worldnews : 74\n",
      "TOTAL COMMENT COUNT: 10000\n"
     ]
    }
   ],
   "source": [
    "vocab = ihop.community2vec.get_vocabulary(\"../data/community2vec/sample_data/subreddit_counts.csv\")\n",
    "print(\"VOCAB SIZE:\", len(vocab))\n",
    "print(\"VOCAB SNIPPET:\")\n",
    "for i, (k,v) in enumerate(vocab.items()):\n",
    "    print(k,\":\",v)\n",
    "    if i>10:\n",
    "        break\n",
    "\n",
    "print(\"TOTAL COMMENT COUNT:\", sum(vocab.values()))"
   ]
  },
  {
   "cell_type": "code",
   "execution_count": 12,
   "metadata": {},
   "outputs": [
    {
     "name": "stderr",
     "output_type": "stream",
     "text": [
      "2022-01-07 13:52:50,542 : INFO : Word2Vec lifecycle event {'params': 'Word2Vec(vocab=0, vector_size=150, alpha=0.025)', 'datetime': '2022-01-07T13:52:50.542938', 'gensim': '4.1.2', 'python': '3.8.12 (default, Oct 12 2021, 13:49:34) \\n[GCC 7.5.0]', 'platform': 'Linux-5.4.0-92-generic-x86_64-with-glibc2.17', 'event': 'created'}\n",
      "2022-01-07 13:52:50,543 : INFO : Processing provided word frequencies\n",
      "2022-01-07 13:52:50,544 : INFO : collected 2275 unique word types, with total frequency of 10000\n",
      "2022-01-07 13:52:50,547 : INFO : Creating a fresh vocabulary\n",
      "2022-01-07 13:52:50,571 : INFO : Word2Vec lifecycle event {'msg': 'effective_min_count=0 retains 2275 unique words (100.0%% of original 2275, drops 0)', 'datetime': '2022-01-07T13:52:50.571922', 'gensim': '4.1.2', 'python': '3.8.12 (default, Oct 12 2021, 13:49:34) \\n[GCC 7.5.0]', 'platform': 'Linux-5.4.0-92-generic-x86_64-with-glibc2.17', 'event': 'prepare_vocab'}\n",
      "2022-01-07 13:52:50,574 : INFO : Word2Vec lifecycle event {'msg': 'effective_min_count=0 leaves 10000 word corpus (100.0%% of original 10000, drops 0)', 'datetime': '2022-01-07T13:52:50.574809', 'gensim': '4.1.2', 'python': '3.8.12 (default, Oct 12 2021, 13:49:34) \\n[GCC 7.5.0]', 'platform': 'Linux-5.4.0-92-generic-x86_64-with-glibc2.17', 'event': 'prepare_vocab'}\n",
      "2022-01-07 13:52:50,640 : INFO : deleting the raw counts dictionary of 2275 items\n",
      "2022-01-07 13:52:50,642 : INFO : sample=0 downsamples 0 most-common words\n",
      "2022-01-07 13:52:50,644 : INFO : Word2Vec lifecycle event {'msg': 'downsampling leaves estimated 10000 word corpus (100.0%% of prior 10000)', 'datetime': '2022-01-07T13:52:50.644781', 'gensim': '4.1.2', 'python': '3.8.12 (default, Oct 12 2021, 13:49:34) \\n[GCC 7.5.0]', 'platform': 'Linux-5.4.0-92-generic-x86_64-with-glibc2.17', 'event': 'prepare_vocab'}\n",
      "2022-01-07 13:52:50,721 : INFO : estimated required memory for 2275 words and 150 dimensions: 3867500 bytes\n",
      "2022-01-07 13:52:50,724 : INFO : resetting layer weights\n"
     ]
    }
   ],
   "source": [
    "from ihop.community2vec import GensimCommunity2Vec\n",
    "\n",
    "myc2v = GensimCommunity2Vec(spark, vocab, \"../data/community2vec/sample_data/user_contexts/part-00000-0ad8096e-a7b4-4941-8946-0a8c7cb8108d-c000.csv.bz2\")\n"
   ]
  },
  {
   "cell_type": "code",
   "execution_count": 13,
   "metadata": {},
   "outputs": [
    {
     "name": "stdout",
     "output_type": "stream",
     "text": [
      "CHECK INITIALIZATION\n",
      "Longest sentence: 258\n",
      "Num sentences: 7231\n",
      "Random embeddings nearest neighbor: [('ImagesOfThe2010s', 0.26547014713287354), ('confession', 0.2560444176197052), ('circlejerk', 0.25592470169067383), ('FFXV', 0.23708847165107727), ('ImagesOfNetherlands', 0.22937066853046417), ('BannedFromThe_Donald', 0.22841127216815948), ('GundamExVs', 0.22638258337974548), ('neovim', 0.2199598252773285), ('Drugs', 0.21625253558158875), ('Anxiety', 0.21418383717536926)]\n"
     ]
    }
   ],
   "source": [
    "print(\"CHECK INITIALIZATION\")\n",
    "print(\"Longest sentence:\", myc2v.max_comments)\n",
    "print(\"Num sentences:\", myc2v.num_users)\n",
    "print(\"Random embeddings nearest neighbor:\", myc2v.w2v_model.wv.most_similar(\"AskReddit\"))"
   ]
  },
  {
   "cell_type": "code",
   "execution_count": 14,
   "metadata": {},
   "outputs": [
    {
     "name": "stderr",
     "output_type": "stream",
     "text": [
      "2022-01-07 13:54:17,845 : INFO : files read into PathLineSentences:../data/community2vec/sample_data/user_contexts/part-00000-0ad8096e-a7b4-4941-8946-0a8c7cb8108d-c000.csv.bz2\n",
      "2022-01-07 13:54:17,847 : INFO : Word2Vec lifecycle event {'msg': 'training model with 3 workers on 2275 vocabulary and 150 features, using sg=1 hs=0 sample=0 negative=20 window=258 shrink_windows=True', 'datetime': '2022-01-07T13:54:17.847328', 'gensim': '4.1.2', 'python': '3.8.12 (default, Oct 12 2021, 13:49:34) \\n[GCC 7.5.0]', 'platform': 'Linux-5.4.0-92-generic-x86_64-with-glibc2.17', 'event': 'train'}\n",
      "2022-01-07 13:54:17,908 : INFO : reading file ../data/community2vec/sample_data/user_contexts/part-00000-0ad8096e-a7b4-4941-8946-0a8c7cb8108d-c000.csv.bz2\n",
      "2022-01-07 13:54:18,084 : INFO : worker thread finished; awaiting finish of 2 more threads\n",
      "2022-01-07 13:54:18,088 : INFO : worker thread finished; awaiting finish of 1 more threads\n",
      "2022-01-07 13:54:19,582 : INFO : EPOCH 1 - PROGRESS: at 100.00% examples, 5508 words/s, in_qsize 0, out_qsize 1\n",
      "2022-01-07 13:54:19,583 : INFO : worker thread finished; awaiting finish of 0 more threads\n",
      "2022-01-07 13:54:19,584 : INFO : EPOCH - 1 : training on 9221 raw words (9221 effective words) took 1.7s, 5503 effective words/s\n",
      "2022-01-07 13:54:19,640 : INFO : reading file ../data/community2vec/sample_data/user_contexts/part-00000-0ad8096e-a7b4-4941-8946-0a8c7cb8108d-c000.csv.bz2\n",
      "2022-01-07 13:54:19,826 : INFO : worker thread finished; awaiting finish of 2 more threads\n",
      "2022-01-07 13:54:19,829 : INFO : worker thread finished; awaiting finish of 1 more threads\n",
      "2022-01-07 13:54:21,245 : INFO : EPOCH 2 - PROGRESS: at 100.00% examples, 5746 words/s, in_qsize 0, out_qsize 1\n",
      "2022-01-07 13:54:21,247 : INFO : worker thread finished; awaiting finish of 0 more threads\n",
      "2022-01-07 13:54:21,261 : INFO : EPOCH - 2 : training on 9221 raw words (9221 effective words) took 1.6s, 5689 effective words/s\n",
      "2022-01-07 13:54:21,285 : INFO : reading file ../data/community2vec/sample_data/user_contexts/part-00000-0ad8096e-a7b4-4941-8946-0a8c7cb8108d-c000.csv.bz2\n",
      "2022-01-07 13:54:21,434 : INFO : worker thread finished; awaiting finish of 2 more threads\n",
      "2022-01-07 13:54:21,438 : INFO : worker thread finished; awaiting finish of 1 more threads\n",
      "2022-01-07 13:54:22,770 : INFO : EPOCH 3 - PROGRESS: at 100.00% examples, 6214 words/s, in_qsize 0, out_qsize 1\n",
      "2022-01-07 13:54:22,772 : INFO : worker thread finished; awaiting finish of 0 more threads\n",
      "2022-01-07 13:54:22,773 : INFO : EPOCH - 3 : training on 9221 raw words (9221 effective words) took 1.5s, 6200 effective words/s\n",
      "2022-01-07 13:54:22,809 : INFO : reading file ../data/community2vec/sample_data/user_contexts/part-00000-0ad8096e-a7b4-4941-8946-0a8c7cb8108d-c000.csv.bz2\n",
      "2022-01-07 13:54:22,985 : INFO : worker thread finished; awaiting finish of 2 more threads\n",
      "2022-01-07 13:54:22,988 : INFO : worker thread finished; awaiting finish of 1 more threads\n",
      "2022-01-07 13:54:23,993 : INFO : EPOCH 4 - PROGRESS: at 100.00% examples, 7817 words/s, in_qsize 0, out_qsize 1\n",
      "2022-01-07 13:54:23,994 : INFO : worker thread finished; awaiting finish of 0 more threads\n",
      "2022-01-07 13:54:23,996 : INFO : EPOCH - 4 : training on 9221 raw words (9221 effective words) took 1.2s, 7798 effective words/s\n",
      "2022-01-07 13:54:24,045 : INFO : reading file ../data/community2vec/sample_data/user_contexts/part-00000-0ad8096e-a7b4-4941-8946-0a8c7cb8108d-c000.csv.bz2\n",
      "2022-01-07 13:54:24,205 : INFO : worker thread finished; awaiting finish of 2 more threads\n",
      "2022-01-07 13:54:24,206 : INFO : worker thread finished; awaiting finish of 1 more threads\n",
      "2022-01-07 13:54:24,962 : INFO : worker thread finished; awaiting finish of 0 more threads\n",
      "2022-01-07 13:54:24,964 : INFO : EPOCH - 5 : training on 9221 raw words (9221 effective words) took 0.9s, 10134 effective words/s\n",
      "2022-01-07 13:54:24,966 : INFO : Word2Vec lifecycle event {'msg': 'training on 46105 raw words (46105 effective words) took 7.1s, 6477 effective words/s', 'datetime': '2022-01-07T13:54:24.966681', 'gensim': '4.1.2', 'python': '3.8.12 (default, Oct 12 2021, 13:49:34) \\n[GCC 7.5.0]', 'platform': 'Linux-5.4.0-92-generic-x86_64-with-glibc2.17', 'event': 'train'}\n"
     ]
    },
    {
     "data": {
      "text/plain": [
       "(46105, 46105)"
      ]
     },
     "execution_count": 14,
     "metadata": {},
     "output_type": "execute_result"
    }
   ],
   "source": [
    "myc2v.train(compute_loss=True)"
   ]
  },
  {
   "cell_type": "code",
   "execution_count": 15,
   "metadata": {},
   "outputs": [
    {
     "data": {
      "text/plain": [
       "218261.59375"
      ]
     },
     "execution_count": 15,
     "metadata": {},
     "output_type": "execute_result"
    }
   ],
   "source": [
    "myc2v.w2v_model.get_latest_training_loss()"
   ]
  },
  {
   "cell_type": "code",
   "execution_count": 16,
   "metadata": {},
   "outputs": [
    {
     "data": {
      "text/plain": [
       "[('PUBATTLEGROUNDS', 0.9995643496513367),\n",
       " ('relationships', 0.9995587468147278),\n",
       " ('cars', 0.9995018839836121),\n",
       " ('RecruitCS', 0.9994935989379883),\n",
       " ('RandomActsOfBlowJob', 0.9994513988494873),\n",
       " ('sneakermarket', 0.9994426965713501),\n",
       " ('twinpeaks', 0.9993971586227417),\n",
       " ('NHLStreams', 0.9993908405303955),\n",
       " ('somethingimade', 0.9993491768836975),\n",
       " ('soccer', 0.9993222951889038)]"
      ]
     },
     "execution_count": 16,
     "metadata": {},
     "output_type": "execute_result"
    }
   ],
   "source": [
    "myc2v.w2v_model.wv.most_similar(\"AskReddit\", topn=10)"
   ]
  },
  {
   "cell_type": "code",
   "execution_count": 17,
   "metadata": {},
   "outputs": [
    {
     "data": {
      "text/plain": [
       "[('democrats', 0.8608246445655823),\n",
       " ('science', 0.8501731753349304),\n",
       " ('vegan', 0.8471425175666809),\n",
       " ('nottheonion', 0.8452572822570801),\n",
       " ('worldnews', 0.8441250324249268),\n",
       " ('GhostAdventures', 0.8412648439407349),\n",
       " ('CAguns', 0.8408916592597961),\n",
       " ('HelloInternet', 0.8403008580207825),\n",
       " ('SULeaks', 0.8400110006332397),\n",
       " ('electricians', 0.8399454355239868)]"
      ]
     },
     "execution_count": 17,
     "metadata": {},
     "output_type": "execute_result"
    }
   ],
   "source": [
    "myc2v.w2v_model.wv.most_similar(\"news\", topn=10)"
   ]
  },
  {
   "cell_type": "code",
   "execution_count": null,
   "metadata": {},
   "outputs": [],
   "source": []
  }
 ],
 "metadata": {
  "interpreter": {
   "hash": "645e6807a54f1780e2a687ae083eb2a94c3bf70f4809b5f746590e8ef179a45c"
  },
  "kernelspec": {
   "display_name": "Python 3.8.12 64-bit ('ihop': conda)",
   "language": "python",
   "name": "python3"
  },
  "language_info": {
   "codemirror_mode": {
    "name": "ipython",
    "version": 3
   },
   "file_extension": ".py",
   "mimetype": "text/x-python",
   "name": "python",
   "nbconvert_exporter": "python",
   "pygments_lexer": "ipython3",
   "version": "3.8.12"
  },
  "orig_nbformat": 4
 },
 "nbformat": 4,
 "nbformat_minor": 2
}
