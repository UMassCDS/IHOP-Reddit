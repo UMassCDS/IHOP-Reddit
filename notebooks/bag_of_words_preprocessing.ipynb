{
 "cells": [
  {
   "cell_type": "markdown",
   "metadata": {},
   "source": [
    "# Convert Reddit data to a Bag-of-words modeling friendly format\n",
    "Concatenate together text of each post and its comments comment together to a single document "
   ]
  },
  {
   "cell_type": "code",
   "execution_count": 1,
   "metadata": {},
   "outputs": [],
   "source": [
    "pushshift_comments = \"/home/virginia/Documents/CenterForDataScience/ZuckermanProj/IHOP/data/comments/RC_2021-06.bz2\"\n",
    "pushshift_submissions = \"/home/virginia/Documents/CenterForDataScience/ZuckermanProj/IHOP/data/submissions/sample.json\""
   ]
  },
  {
   "cell_type": "code",
   "execution_count": 4,
   "metadata": {},
   "outputs": [
    {
     "name": "stdout",
     "output_type": "stream",
     "text": [
      "Spark configuration:\n",
      "[('spark.driver.memory', '2G'), ('spark.app.id', 'local-1644360269019'), ('spark.executor.id', 'driver'), ('spark.driver.host', '192.168.0.11'), ('spark.sql.warehouse.dir', 'file:/home/virginia/Documents/CenterForDataScience/ZuckermanProj/IHOP/notebooks/spark-warehouse'), ('spark.app.startTime', '1644360265562'), ('spark.app.name', 'Community2vec Notebook'), ('spark.rdd.compress', 'True'), ('spark.driver.port', '42545'), ('spark.serializer.objectStreamReset', '100'), ('spark.master', 'local[*]'), ('spark.submit.pyFiles', ''), ('spark.submit.deployMode', 'client'), ('spark.executor.extraLibraryPath', '/home/virginia/hadoop-3.3.1/lib/native'), ('spark.ui.showConsoleProgress', 'true'), ('spark.driver.extraLibraryPath', '/home/virginia/hadoop-3.3.1/lib/native')]\n"
     ]
    }
   ],
   "source": [
    "import ihop\n",
    "import ihop.import_data as ihopid\n",
    "import pyspark.sql.functions as fn\n",
    "spark = ihop.utils.get_spark_session(\"Community2vec Notebook\", driver_mem=\"2G\")"
   ]
  },
  {
   "cell_type": "code",
   "execution_count": 6,
   "metadata": {},
   "outputs": [
    {
     "name": "stdout",
     "output_type": "stream",
     "text": [
      "+-------+----------+-----+---------+--------------------+--------------------+--------------------+-----------+--------------------------+\n",
      "|     id| parent_id|score|  link_id|              author|           subreddit|                body|created_utc|created_utc_human_readable|\n",
      "+-------+----------+-----+---------+--------------------+--------------------+--------------------+-----------+--------------------------+\n",
      "|h04xy26| t3_npeihe|    5|t3_npeihe|     wadeinyourwater|              sixers|               MAXEY| 1622505600|       2021-05-31 20:00:00|\n",
      "|h04xy27|t1_h04xser|    0|t3_npdb4c|         brandomango|               leafs|This subreddit is...| 1622505600|       2021-05-31 20:00:00|\n",
      "|h04xy28|t1_h03zm8p|    2|t3_noxvw4|       PineValentine|         cottagecore|You are indeed so...| 1622505600|       2021-05-31 20:00:00|\n",
      "|h04xy29| t3_np3uog|   22|t3_np3uog|           [deleted]|                yaoi|I’ve been with so...| 1622505600|       2021-05-31 20:00:00|\n",
      "|h04xy2a| t3_npgu4d|    1|t3_npgu4d|       AutoModerator|AssassinsCreedVal...|Hello Vikings!\\n\\...| 1622505600|       2021-05-31 20:00:00|\n",
      "|h04xy2b|t1_h04h63k|    9|t3_noygj8|  millennialpink2000|FemaleDatingStrategy|Then have the gal...| 1622505600|       2021-05-31 20:00:00|\n",
      "|h04xy2c|t1_h0312hw|    1|t3_noz9un|          svenhoek86|       SquaredCircle|Not in the playof...| 1622505600|       2021-05-31 20:00:00|\n",
      "|h04xy2d| t3_np9ejk|   12|t3_np9ejk|          FlaymerLoL|              Target|“It takes a diffe...| 1622505600|       2021-05-31 20:00:00|\n",
      "|h04xy2e| t3_npajv3|    1|t3_npajv3|       NSFW_Hunter63|insanepeoplefacebook|Alrighty, I'll ta...| 1622505600|       2021-05-31 20:00:00|\n",
      "|h04xy2f| t3_npghpq|   95|t3_npghpq|ExtensionAgreeable55| theJoeBuddenPodcast|he doesn't owe fr...| 1622505600|       2021-05-31 20:00:00|\n",
      "|h04xy2g|t1_h04nss9|    6|t3_np9oyh|        Congress1818|          neoliberal|and there were PL...| 1622505600|       2021-05-31 20:00:00|\n",
      "|h04xy2h| t3_npeear|   23|t3_npeear|           Fukshit47|   interestingasfuck|Turns out the red...| 1622505600|       2021-05-31 20:00:00|\n",
      "|h04xy2i|t1_h04xvjh|    1|t3_npfzxh|           [deleted]|      jerkofftomymom|           [deleted]| 1622505600|       2021-05-31 20:00:00|\n",
      "|h04xy2j|t1_h04xpnq|   28|t3_npc1yl|           hallowers|        IdiotsInCars|...You do realize...| 1622505600|       2021-05-31 20:00:00|\n",
      "|h04xy2k| t3_npgr82|    2|t3_npgr82|         dalailama20|               NoFap|Hang in there. Go...| 1622505600|       2021-05-31 20:00:00|\n",
      "|h04xy2l|t1_h04g1p5|   19|t3_npc0sg|      BrownSugarBare|          Unexpected|3 kids in my fam,...| 1622505600|       2021-05-31 20:00:00|\n",
      "|h04xy2m| t3_npcj9g|  459|t3_npcj9g|       Lowkey-Loki87|               funny|This is clearly g...| 1622505600|       2021-05-31 20:00:00|\n",
      "|h04xy2n|t1_h0365v7|    8|t3_np54zx|          Diab01ica1|      RedLetterMedia|What is this, a v...| 1622505600|       2021-05-31 20:00:00|\n",
      "|h04xy2o| t3_npgtxe|    4|t3_npgtxe|        BrandiBraids|            pigtails|[SOURCE](https://...| 1622505600|       2021-05-31 20:00:00|\n",
      "|h04xy2p| t3_np7sgt|    1|t3_np7sgt|         Biboivirgin|              GayNYC|If you’ll send me...| 1622505600|       2021-05-31 20:00:00|\n",
      "+-------+----------+-----+---------+--------------------+--------------------+--------------------+-----------+--------------------------+\n",
      "only showing top 20 rows\n",
      "\n"
     ]
    }
   ],
   "source": [
    "comments_df = ihopid.get_spark_dataframe(pushshift_comments, spark, ihopid.COMMENTS)\n",
    "comments_df = comments_df.withColumn('created_utc_human_readable', fn.to_timestamp(fn.col('created_utc')))\n",
    "comments_df.show()"
   ]
  },
  {
   "cell_type": "code",
   "execution_count": null,
   "metadata": {},
   "outputs": [],
   "source": []
  }
 ],
 "metadata": {
  "interpreter": {
   "hash": "645e6807a54f1780e2a687ae083eb2a94c3bf70f4809b5f746590e8ef179a45c"
  },
  "kernelspec": {
   "display_name": "Python 3.8.12 ('ihop')",
   "language": "python",
   "name": "python3"
  },
  "language_info": {
   "codemirror_mode": {
    "name": "ipython",
    "version": 3
   },
   "file_extension": ".py",
   "mimetype": "text/x-python",
   "name": "python",
   "nbconvert_exporter": "python",
   "pygments_lexer": "ipython3",
   "version": "3.8.12"
  },
  "orig_nbformat": 4
 },
 "nbformat": 4,
 "nbformat_minor": 2
}
