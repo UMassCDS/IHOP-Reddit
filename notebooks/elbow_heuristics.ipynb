{
 "cells": [
  {
   "cell_type": "code",
   "execution_count": 1,
   "metadata": {},
   "outputs": [],
   "source": [
    "from pathlib import Path\n",
    "\n",
    "import matplotlib.pyplot as plt\n",
    "import seaborn as sns\n",
    "import sklearn\n",
    "from yellowbrick.cluster import KElbowVisualizer\n",
    "\n",
    "from ihop.community2vec import GensimCommunity2Vec\n",
    "\n",
    "sns.set_palette(\"Dark2\")"
   ]
  },
  {
   "cell_type": "code",
   "execution_count": null,
   "metadata": {},
   "outputs": [
    {
     "ename": "SyntaxError",
     "evalue": "invalid syntax (13979992.py, line 49)",
     "output_type": "error",
     "traceback": [
      "\u001b[0;36m  Cell \u001b[0;32mIn [2], line 49\u001b[0;36m\u001b[0m\n",
      "\u001b[0;31m    \"union_uniform_probability_v_measure\": \"V-Measure with subreddit union\"\u001b[0m\n",
      "\u001b[0m                                         ^\u001b[0m\n",
      "\u001b[0;31mSyntaxError\u001b[0m\u001b[0;31m:\u001b[0m invalid syntax\n"
     ]
    }
   ],
   "source": [
    "\n",
    "DATA_ROOT = Path(\"../data\")\n",
    "C2V_ROOT = DATA_ROOT / \"community2vec\"\n",
    "STABILITY_METRICS_ROOT = DATA_ROOT / \"cluster_stability\"\n",
    "\n",
    "MONTHS = sorted([\"2021-04\", \"2021-05\", \"2021-06\", \"2021-07\", \"2021-08\", \"2021-09\", \"2021-10\", \"2021-11\", \"2021-12\", \"2022-01\", \"2022-02\", \"2022-03\"\n",
    "])\n",
    "\n",
    "C2V_MODELS = [GensimCommunity2Vec.load(C2V_ROOT / f\"RC_{m}\"/\"best_model\") for m in MONTHS]\n",
    "\n",
    "SUBREDDIT_COUNTS_CSVS = [C2V_ROOT / f\"RC_{m}\" / \"subreddit_counts.csv\" for m in MONTHS]\n",
    "\n",
    "# Set up for k-means clustering\n",
    "RANDOM_SEEDS = [7, 17, 29, 32, 42, 53, 63, 70, 84, 96]\n",
    "NUM_CLUSTERS = [5, 10, 50, 100, 175, 250, 400]"
   ]
  },
  {
   "cell_type": "markdown",
   "metadata": {},
   "source": [
    "# KMeans Clustering Elbow Heuristic\n",
    "These diagrams demonstrate using the [Elbow method](https://en.wikipedia.org/wiki/Elbow_method_(clustering)) to determine the appropriate number of clusters of subreddits in KMeans for each month. Ultimately, we'd like to use the granularity of clustering that provides the best human interpretability, but this method gives an indication of a good cut-off, where increasing the number of clusters will not give quantitative gains. "
   ]
  },
  {
   "cell_type": "code",
   "execution_count": null,
   "metadata": {},
   "outputs": [],
   "source": [
    "# Use the Elbow methd to show if there's a \"good\" number of clusters that can be used\n",
    "ax_counter = 0\n",
    "nrows = 3\n",
    "ncols = 4\n",
    "fig, axes = plt.subplots(ncols=ncols, nrows=nrows, figsize=(16,12), constrained_layout=True)\n",
    "fig.suptitle(\"Elbow diagrams of Silhouette scores for KMeans clustering\\non Community2Vec Reddit models\")\n",
    "for month, c2v_model in zip(MONTHS, C2V_MODELS):\n",
    "    row = int(ax_counter / ncols) \n",
    "    col = ax_counter % ncols\n",
    "    ax = axes[row, col]\n",
    "    ax.set(ylim=(0, 0.25))\n",
    "    key_vectors = c2v_model.get_normed_vectors()\n",
    "    kmeans_model = sklearn.cluster.KMeans(random_state=100)\n",
    "    viz = KElbowVisualizer(kmeans_model, k=NUM_CLUSTERS, metric='silhouette', ax = ax, timings=False)\n",
    "    ax.set_title(month)\n",
    "    viz.fit(key_vectors)\n",
    "\n",
    "    ax_counter +=1\n",
    "\n",
    "plt.show()\n",
    "plt.clf()\n"
   ]
  },
  {
   "cell_type": "code",
   "execution_count": null,
   "metadata": {},
   "outputs": [],
   "source": [
    "# Use the Elbow methd to show if there's a \"good\" number of clusters that can be used\n",
    "ax_counter = 0\n",
    "nrows = 3\n",
    "ncols = 4\n",
    "fig, axes = plt.subplots(ncols=ncols, nrows=nrows, figsize=(16,12), constrained_layout=True)\n",
    "fig.suptitle(\"Elbow diagrams of Calinski-Harabasz scores for KMeans clustering\\non Community2Vec Reddit models\")\n",
    "for month, c2v_model in zip(MONTHS, C2V_MODELS):\n",
    "    row = int(ax_counter / ncols) \n",
    "    col = ax_counter % ncols\n",
    "    ax = axes[row, col]\n",
    "    key_vectors = c2v_model.get_normed_vectors()\n",
    "    kmeans_model = sklearn.cluster.KMeans(random_state=100)\n",
    "    viz = KElbowVisualizer(kmeans_model, k=NUM_CLUSTERS, metric='calinski_harabasz', ax = ax, timings=False)\n",
    "    ax.set_title(month)\n",
    "    viz.fit(key_vectors)\n",
    "\n",
    "    ax_counter +=1\n",
    "\n",
    "plt.show()\n",
    "plt.clf("
   ]
  }
 ],
 "metadata": {
  "kernelspec": {
   "display_name": "ihop",
   "language": "python",
   "name": "python3"
  },
  "language_info": {
   "codemirror_mode": {
    "name": "ipython",
    "version": 3
   },
   "file_extension": ".py",
   "mimetype": "text/x-python",
   "name": "python",
   "nbconvert_exporter": "python",
   "pygments_lexer": "ipython3",
   "version": "3.9.13"
  },
  "orig_nbformat": 4,
  "vscode": {
   "interpreter": {
    "hash": "645e6807a54f1780e2a687ae083eb2a94c3bf70f4809b5f746590e8ef179a45c"
   }
  }
 },
 "nbformat": 4,
 "nbformat_minor": 2
}
