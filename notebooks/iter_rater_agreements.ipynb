{
 "cells": [
  {
   "cell_type": "code",
   "execution_count": 1,
   "metadata": {},
   "outputs": [],
   "source": [
    "from irrCAC.raw import CAC\n",
    "from irrCAC.benchmark import Benchmark\n",
    "import pandas as pd\n",
    "\n",
    "ANNOTATION_CSV_PATH = \"../data/annotation_data/Coherence Task March 2022_July 2021 All - both months raw labels.csv\""
   ]
  },
  {
   "cell_type": "code",
   "execution_count": 2,
   "metadata": {},
   "outputs": [],
   "source": [
    "def benchmark(coefficient_dict):\n",
    "    \"\"\"Given computed coefficient values from the irrCAC library, print the likely membership scale probabilities\"\"\"\n",
    "    est_dict = coefficient_dict[\"est\"]\n",
    "    benchmarker = Benchmark(coeff=est_dict[\"coefficient_value\"], se=est_dict[\"se\"])\n",
    "\n",
    "    print(\"Altman Scale\")\n",
    "    print(benchmarker.altman())\n",
    "    print()\n",
    "\n",
    "    print(\"Landis Koch Scale\")\n",
    "    print(benchmarker.landis_koch())\n",
    "    print()\n",
    "\n",
    "    print(\"Fleiss Scale\")\n",
    "    print(benchmarker.fleiss())\n",
    "    print()"
   ]
  },
  {
   "cell_type": "code",
   "execution_count": 3,
   "metadata": {},
   "outputs": [
    {
     "data": {
      "text/html": [
       "<div>\n",
       "<style scoped>\n",
       "    .dataframe tbody tr th:only-of-type {\n",
       "        vertical-align: middle;\n",
       "    }\n",
       "\n",
       "    .dataframe tbody tr th {\n",
       "        vertical-align: top;\n",
       "    }\n",
       "\n",
       "    .dataframe thead th {\n",
       "        text-align: right;\n",
       "    }\n",
       "</style>\n",
       "<table border=\"1\" class=\"dataframe\">\n",
       "  <thead>\n",
       "    <tr style=\"text-align: right;\">\n",
       "      <th></th>\n",
       "      <th>Model ID</th>\n",
       "      <th>Cluster ID</th>\n",
       "      <th>Ryan Coherence</th>\n",
       "      <th>Rebecca Coherence</th>\n",
       "      <th>Ethan Coherence</th>\n",
       "    </tr>\n",
       "  </thead>\n",
       "  <tbody>\n",
       "    <tr>\n",
       "      <th>0</th>\n",
       "      <td>2021-07_kmeans_clusters</td>\n",
       "      <td>0</td>\n",
       "      <td>1</td>\n",
       "      <td>1</td>\n",
       "      <td>1</td>\n",
       "    </tr>\n",
       "    <tr>\n",
       "      <th>1</th>\n",
       "      <td>2021-07_kmeans_clusters</td>\n",
       "      <td>1</td>\n",
       "      <td>1</td>\n",
       "      <td>1</td>\n",
       "      <td>1</td>\n",
       "    </tr>\n",
       "    <tr>\n",
       "      <th>2</th>\n",
       "      <td>2021-07_kmeans_clusters</td>\n",
       "      <td>2</td>\n",
       "      <td>1</td>\n",
       "      <td>1</td>\n",
       "      <td>0</td>\n",
       "    </tr>\n",
       "    <tr>\n",
       "      <th>3</th>\n",
       "      <td>2021-07_kmeans_clusters</td>\n",
       "      <td>3</td>\n",
       "      <td>0</td>\n",
       "      <td>1</td>\n",
       "      <td>0</td>\n",
       "    </tr>\n",
       "    <tr>\n",
       "      <th>4</th>\n",
       "      <td>2021-07_kmeans_clusters</td>\n",
       "      <td>4</td>\n",
       "      <td>1</td>\n",
       "      <td>1</td>\n",
       "      <td>0</td>\n",
       "    </tr>\n",
       "    <tr>\n",
       "      <th>...</th>\n",
       "      <td>...</td>\n",
       "      <td>...</td>\n",
       "      <td>...</td>\n",
       "      <td>...</td>\n",
       "      <td>...</td>\n",
       "    </tr>\n",
       "    <tr>\n",
       "      <th>195</th>\n",
       "      <td>2022-03_kmeans_clusters</td>\n",
       "      <td>95</td>\n",
       "      <td>1</td>\n",
       "      <td>1</td>\n",
       "      <td>1</td>\n",
       "    </tr>\n",
       "    <tr>\n",
       "      <th>196</th>\n",
       "      <td>2022-03_kmeans_clusters</td>\n",
       "      <td>96</td>\n",
       "      <td>1</td>\n",
       "      <td>1</td>\n",
       "      <td>1</td>\n",
       "    </tr>\n",
       "    <tr>\n",
       "      <th>197</th>\n",
       "      <td>2022-03_kmeans_clusters</td>\n",
       "      <td>97</td>\n",
       "      <td>1</td>\n",
       "      <td>1</td>\n",
       "      <td>1</td>\n",
       "    </tr>\n",
       "    <tr>\n",
       "      <th>198</th>\n",
       "      <td>2022-03_kmeans_clusters</td>\n",
       "      <td>98</td>\n",
       "      <td>1</td>\n",
       "      <td>1</td>\n",
       "      <td>1</td>\n",
       "    </tr>\n",
       "    <tr>\n",
       "      <th>199</th>\n",
       "      <td>2022-03_kmeans_clusters</td>\n",
       "      <td>99</td>\n",
       "      <td>1</td>\n",
       "      <td>1</td>\n",
       "      <td>1</td>\n",
       "    </tr>\n",
       "  </tbody>\n",
       "</table>\n",
       "<p>200 rows × 5 columns</p>\n",
       "</div>"
      ],
      "text/plain": [
       "                    Model ID  Cluster ID  Ryan Coherence  Rebecca Coherence  \\\n",
       "0    2021-07_kmeans_clusters           0               1                  1   \n",
       "1    2021-07_kmeans_clusters           1               1                  1   \n",
       "2    2021-07_kmeans_clusters           2               1                  1   \n",
       "3    2021-07_kmeans_clusters           3               0                  1   \n",
       "4    2021-07_kmeans_clusters           4               1                  1   \n",
       "..                       ...         ...             ...                ...   \n",
       "195  2022-03_kmeans_clusters          95               1                  1   \n",
       "196  2022-03_kmeans_clusters          96               1                  1   \n",
       "197  2022-03_kmeans_clusters          97               1                  1   \n",
       "198  2022-03_kmeans_clusters          98               1                  1   \n",
       "199  2022-03_kmeans_clusters          99               1                  1   \n",
       "\n",
       "     Ethan Coherence  \n",
       "0                  1  \n",
       "1                  1  \n",
       "2                  0  \n",
       "3                  0  \n",
       "4                  0  \n",
       "..               ...  \n",
       "195                1  \n",
       "196                1  \n",
       "197                1  \n",
       "198                1  \n",
       "199                1  \n",
       "\n",
       "[200 rows x 5 columns]"
      ]
     },
     "metadata": {},
     "output_type": "display_data"
    }
   ],
   "source": [
    "annotations_df = pd.read_csv(ANNOTATION_CSV_PATH)\n",
    "display(annotations_df)"
   ]
  },
  {
   "cell_type": "code",
   "execution_count": 4,
   "metadata": {},
   "outputs": [
    {
     "name": "stdout",
     "output_type": "stream",
     "text": [
      "<irrCAC.raw.CAC Subjects: 200, Raters: 3, Categories: [0, 1], Weights: \"identity\">\n"
     ]
    }
   ],
   "source": [
    "cac = CAC(annotations_df.drop(columns=[\"Model ID\", \"Cluster ID\"]))\n",
    "print(cac)\n"
   ]
  },
  {
   "cell_type": "code",
   "execution_count": 5,
   "metadata": {},
   "outputs": [
    {
     "name": "stdout",
     "output_type": "stream",
     "text": [
      "AC1 statistic\n",
      "{'est': {'coefficient_value': 0.8503, 'coefficient_name': 'AC1', 'confidence_interval': (0.79906, 0.90154), 'p_value': 0.0, 'z': 32.72321, 'se': 0.02598, 'pa': 0.88, 'pe': 0.19839}, 'weights': array([[1., 0.],\n",
      "       [0., 1.]]), 'categories': [0, 1]}\n",
      "Altman Scale\n",
      "{'scale': [(0.8, 1.0), (0.6, 0.8), (0.4, 0.6), (0.2, 0.4), (-1.0, 0.2)], 'Altman': ['Very Good', 'Good', 'Moderate', 'Fair', 'Poor'], 'CumProb': [0.97357, 1.0, 1.0, 1.0, 1.0]}\n",
      "\n",
      "Landis Koch Scale\n",
      "{'scale': [(0.8, 1.0), (0.6, 0.8), (0.4, 0.6), (0.2, 0.4), (0.0, 0.2), (-1.0, 0.0)], 'Landis-Koch': ['Almost Perfect', 'Substantial', 'Moderate', 'Fair', 'Slight', 'Poor'], 'CumProb': [0.97357, 1.0, 1.0, 1.0, 1.0, 1.0]}\n",
      "\n",
      "Fleiss Scale\n",
      "{'scale': [(0.75, 1.0), (0.4, 0.75), (-1.0, 0.4)], 'Fleiss': ['Excellent', 'Intermediate to Good', 'Poor'], 'CumProb': [0.99994, 1.0, 1.0]}\n",
      "\n"
     ]
    }
   ],
   "source": [
    "print(\"AC1 statistic\")\n",
    "gwet_dict = cac.gwet()\n",
    "print(gwet_dict)\n",
    "\n",
    "benchmark(gwet_dict)"
   ]
  },
  {
   "cell_type": "code",
   "execution_count": 6,
   "metadata": {},
   "outputs": [
    {
     "name": "stdout",
     "output_type": "stream",
     "text": [
      "Fleiss' Kappa\n",
      "{'est': {'coefficient_value': 0.39514, 'coefficient_name': \"Fleiss' kappa\", 'confidence_interval': (0.2424, 0.54789), 'p_value': 7.837092732554396e-07, 'z': 5.10145, 'se': 0.07746, 'pa': 0.88, 'pe': 0.80161}, 'weights': array([[1., 0.],\n",
      "       [0., 1.]]), 'categories': [0, 1]}\n",
      "Altman Scale\n",
      "{'scale': [(0.8, 1.0), (0.6, 0.8), (0.4, 0.6), (0.2, 0.4), (-1.0, 0.2)], 'Altman': ['Very Good', 'Good', 'Moderate', 'Fair', 'Poor'], 'CumProb': [0.0, 0.00409, 0.47499, 0.99412, 1.0]}\n",
      "\n",
      "Landis Koch Scale\n",
      "{'scale': [(0.8, 1.0), (0.6, 0.8), (0.4, 0.6), (0.2, 0.4), (0.0, 0.2), (-1.0, 0.0)], 'Landis-Koch': ['Almost Perfect', 'Substantial', 'Moderate', 'Fair', 'Slight', 'Poor'], 'CumProb': [0.0, 0.00409, 0.47499, 0.99412, 1.0, 1.0]}\n",
      "\n",
      "Fleiss Scale\n",
      "{'scale': [(0.75, 1.0), (0.4, 0.75), (-1.0, 0.4)], 'Fleiss': ['Excellent', 'Intermediate to Good', 'Poor'], 'CumProb': [0.0, 0.47499, 1.0]}\n",
      "\n"
     ]
    }
   ],
   "source": [
    "print(\"Fleiss' Kappa\")\n",
    "fleiss_dict = cac.fleiss()\n",
    "print(fleiss_dict)\n",
    "\n",
    "benchmark(fleiss_dict)"
   ]
  }
 ],
 "metadata": {
  "kernelspec": {
   "display_name": "Python 3.9.0 ('ihop')",
   "language": "python",
   "name": "python3"
  },
  "language_info": {
   "codemirror_mode": {
    "name": "ipython",
    "version": 3
   },
   "file_extension": ".py",
   "mimetype": "text/x-python",
   "name": "python",
   "nbconvert_exporter": "python",
   "pygments_lexer": "ipython3",
   "version": "3.9.0"
  },
  "orig_nbformat": 4,
  "vscode": {
   "interpreter": {
    "hash": "645e6807a54f1780e2a687ae083eb2a94c3bf70f4809b5f746590e8ef179a45c"
   }
  }
 },
 "nbformat": 4,
 "nbformat_minor": 2
}
